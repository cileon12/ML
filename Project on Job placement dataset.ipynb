{
  "nbformat": 4,
  "nbformat_minor": 0,
  "metadata": {
    "colab": {
      "provenance": [],
      "mount_file_id": "1VWqqSQy63urMiPbMVveTWSTUNMTM4Wmu",
      "authorship_tag": "ABX9TyORwdDmZFuhsTp2i1LSsmR3",
      "include_colab_link": true
    },
    "kernelspec": {
      "name": "python3",
      "display_name": "Python 3"
    },
    "language_info": {
      "name": "python"
    },
    "accelerator": "GPU",
    "gpuClass": "standard"
  },
  "cells": [
    {
      "cell_type": "markdown",
      "metadata": {
        "id": "view-in-github",
        "colab_type": "text"
      },
      "source": [
        "<a href=\"https://colab.research.google.com/github/cileon12/ML/blob/master/Project%20on%20Job%20placement%20dataset.ipynb\" target=\"_parent\"><img src=\"https://colab.research.google.com/assets/colab-badge.svg\" alt=\"Open In Colab\"/></a>"
      ]
    },
    {
      "cell_type": "code",
      "source": [
        "import numpy as np #--> numpy provides large multi dimentional arrays and matrics\n",
        "import pandas as pd #-->pandas is a library that helps in data manipulation and analysis, it also helps in modification of data structures \n",
        "import seaborn as sns #-->helps in visualizing the data \n",
        "import sklearn #-->this is a library for ML whiich provides us with various classification and regression models tht we will be using for getting final predictions "
      ],
      "metadata": {
        "id": "5LNC32dCakst"
      },
      "execution_count": null,
      "outputs": []
    },
    {
      "cell_type": "code",
      "source": [
        "import warnings \n",
        "warnings.filterwarnings('ignore')"
      ],
      "metadata": {
        "id": "n5hujnWOQhJB"
      },
      "execution_count": null,
      "outputs": []
    },
    {
      "cell_type": "markdown",
      "source": [
        "#1.**Import the datraset and show the first 5 rows of the dataset**"
      ],
      "metadata": {
        "id": "y_Bwqhw6Qy7o"
      }
    },
    {
      "cell_type": "code",
      "execution_count": null,
      "metadata": {
        "colab": {
          "base_uri": "https://localhost:8080/",
          "height": 206
        },
        "id": "dpjIL212JdKF",
        "outputId": "457aa4ad-9027-4c5d-9d43-e591391759d7"
      },
      "outputs": [
        {
          "output_type": "execute_result",
          "data": {
            "text/plain": [
              "  gender  ssc_percentage ssc_board  hsc_percentage hsc_board hsc_subject  \\\n",
              "0      M           67.00    Others           91.00    Others    Commerce   \n",
              "1      M           79.33   Central           78.33    Others     Science   \n",
              "2      M           65.00   Central           68.00   Central        Arts   \n",
              "3      M           56.00   Central           52.00   Central     Science   \n",
              "4      M           85.80   Central           73.60   Central    Commerce   \n",
              "\n",
              "   degree_percentage undergrad_degree work_experience  emp_test_percentage  \\\n",
              "0              58.00         Sci&Tech              No                 55.0   \n",
              "1              77.48         Sci&Tech             Yes                 86.5   \n",
              "2              64.00        Comm&Mgmt              No                 75.0   \n",
              "3              52.00         Sci&Tech              No                 66.0   \n",
              "4              73.30        Comm&Mgmt              No                 96.8   \n",
              "\n",
              "  specialisation  mba_percent      status  \n",
              "0         Mkt&HR        58.80      Placed  \n",
              "1        Mkt&Fin        66.28      Placed  \n",
              "2        Mkt&Fin        57.80      Placed  \n",
              "3         Mkt&HR        59.43  Not Placed  \n",
              "4        Mkt&Fin        55.50      Placed  "
            ],
            "text/html": [
              "\n",
              "  <div id=\"df-bafd8c95-af77-4c30-af72-e974ae1cfb30\">\n",
              "    <div class=\"colab-df-container\">\n",
              "      <div>\n",
              "<style scoped>\n",
              "    .dataframe tbody tr th:only-of-type {\n",
              "        vertical-align: middle;\n",
              "    }\n",
              "\n",
              "    .dataframe tbody tr th {\n",
              "        vertical-align: top;\n",
              "    }\n",
              "\n",
              "    .dataframe thead th {\n",
              "        text-align: right;\n",
              "    }\n",
              "</style>\n",
              "<table border=\"1\" class=\"dataframe\">\n",
              "  <thead>\n",
              "    <tr style=\"text-align: right;\">\n",
              "      <th></th>\n",
              "      <th>gender</th>\n",
              "      <th>ssc_percentage</th>\n",
              "      <th>ssc_board</th>\n",
              "      <th>hsc_percentage</th>\n",
              "      <th>hsc_board</th>\n",
              "      <th>hsc_subject</th>\n",
              "      <th>degree_percentage</th>\n",
              "      <th>undergrad_degree</th>\n",
              "      <th>work_experience</th>\n",
              "      <th>emp_test_percentage</th>\n",
              "      <th>specialisation</th>\n",
              "      <th>mba_percent</th>\n",
              "      <th>status</th>\n",
              "    </tr>\n",
              "  </thead>\n",
              "  <tbody>\n",
              "    <tr>\n",
              "      <th>0</th>\n",
              "      <td>M</td>\n",
              "      <td>67.00</td>\n",
              "      <td>Others</td>\n",
              "      <td>91.00</td>\n",
              "      <td>Others</td>\n",
              "      <td>Commerce</td>\n",
              "      <td>58.00</td>\n",
              "      <td>Sci&amp;Tech</td>\n",
              "      <td>No</td>\n",
              "      <td>55.0</td>\n",
              "      <td>Mkt&amp;HR</td>\n",
              "      <td>58.80</td>\n",
              "      <td>Placed</td>\n",
              "    </tr>\n",
              "    <tr>\n",
              "      <th>1</th>\n",
              "      <td>M</td>\n",
              "      <td>79.33</td>\n",
              "      <td>Central</td>\n",
              "      <td>78.33</td>\n",
              "      <td>Others</td>\n",
              "      <td>Science</td>\n",
              "      <td>77.48</td>\n",
              "      <td>Sci&amp;Tech</td>\n",
              "      <td>Yes</td>\n",
              "      <td>86.5</td>\n",
              "      <td>Mkt&amp;Fin</td>\n",
              "      <td>66.28</td>\n",
              "      <td>Placed</td>\n",
              "    </tr>\n",
              "    <tr>\n",
              "      <th>2</th>\n",
              "      <td>M</td>\n",
              "      <td>65.00</td>\n",
              "      <td>Central</td>\n",
              "      <td>68.00</td>\n",
              "      <td>Central</td>\n",
              "      <td>Arts</td>\n",
              "      <td>64.00</td>\n",
              "      <td>Comm&amp;Mgmt</td>\n",
              "      <td>No</td>\n",
              "      <td>75.0</td>\n",
              "      <td>Mkt&amp;Fin</td>\n",
              "      <td>57.80</td>\n",
              "      <td>Placed</td>\n",
              "    </tr>\n",
              "    <tr>\n",
              "      <th>3</th>\n",
              "      <td>M</td>\n",
              "      <td>56.00</td>\n",
              "      <td>Central</td>\n",
              "      <td>52.00</td>\n",
              "      <td>Central</td>\n",
              "      <td>Science</td>\n",
              "      <td>52.00</td>\n",
              "      <td>Sci&amp;Tech</td>\n",
              "      <td>No</td>\n",
              "      <td>66.0</td>\n",
              "      <td>Mkt&amp;HR</td>\n",
              "      <td>59.43</td>\n",
              "      <td>Not Placed</td>\n",
              "    </tr>\n",
              "    <tr>\n",
              "      <th>4</th>\n",
              "      <td>M</td>\n",
              "      <td>85.80</td>\n",
              "      <td>Central</td>\n",
              "      <td>73.60</td>\n",
              "      <td>Central</td>\n",
              "      <td>Commerce</td>\n",
              "      <td>73.30</td>\n",
              "      <td>Comm&amp;Mgmt</td>\n",
              "      <td>No</td>\n",
              "      <td>96.8</td>\n",
              "      <td>Mkt&amp;Fin</td>\n",
              "      <td>55.50</td>\n",
              "      <td>Placed</td>\n",
              "    </tr>\n",
              "  </tbody>\n",
              "</table>\n",
              "</div>\n",
              "      <button class=\"colab-df-convert\" onclick=\"convertToInteractive('df-bafd8c95-af77-4c30-af72-e974ae1cfb30')\"\n",
              "              title=\"Convert this dataframe to an interactive table.\"\n",
              "              style=\"display:none;\">\n",
              "        \n",
              "  <svg xmlns=\"http://www.w3.org/2000/svg\" height=\"24px\"viewBox=\"0 0 24 24\"\n",
              "       width=\"24px\">\n",
              "    <path d=\"M0 0h24v24H0V0z\" fill=\"none\"/>\n",
              "    <path d=\"M18.56 5.44l.94 2.06.94-2.06 2.06-.94-2.06-.94-.94-2.06-.94 2.06-2.06.94zm-11 1L8.5 8.5l.94-2.06 2.06-.94-2.06-.94L8.5 2.5l-.94 2.06-2.06.94zm10 10l.94 2.06.94-2.06 2.06-.94-2.06-.94-.94-2.06-.94 2.06-2.06.94z\"/><path d=\"M17.41 7.96l-1.37-1.37c-.4-.4-.92-.59-1.43-.59-.52 0-1.04.2-1.43.59L10.3 9.45l-7.72 7.72c-.78.78-.78 2.05 0 2.83L4 21.41c.39.39.9.59 1.41.59.51 0 1.02-.2 1.41-.59l7.78-7.78 2.81-2.81c.8-.78.8-2.07 0-2.86zM5.41 20L4 18.59l7.72-7.72 1.47 1.35L5.41 20z\"/>\n",
              "  </svg>\n",
              "      </button>\n",
              "      \n",
              "  <style>\n",
              "    .colab-df-container {\n",
              "      display:flex;\n",
              "      flex-wrap:wrap;\n",
              "      gap: 12px;\n",
              "    }\n",
              "\n",
              "    .colab-df-convert {\n",
              "      background-color: #E8F0FE;\n",
              "      border: none;\n",
              "      border-radius: 50%;\n",
              "      cursor: pointer;\n",
              "      display: none;\n",
              "      fill: #1967D2;\n",
              "      height: 32px;\n",
              "      padding: 0 0 0 0;\n",
              "      width: 32px;\n",
              "    }\n",
              "\n",
              "    .colab-df-convert:hover {\n",
              "      background-color: #E2EBFA;\n",
              "      box-shadow: 0px 1px 2px rgba(60, 64, 67, 0.3), 0px 1px 3px 1px rgba(60, 64, 67, 0.15);\n",
              "      fill: #174EA6;\n",
              "    }\n",
              "\n",
              "    [theme=dark] .colab-df-convert {\n",
              "      background-color: #3B4455;\n",
              "      fill: #D2E3FC;\n",
              "    }\n",
              "\n",
              "    [theme=dark] .colab-df-convert:hover {\n",
              "      background-color: #434B5C;\n",
              "      box-shadow: 0px 1px 3px 1px rgba(0, 0, 0, 0.15);\n",
              "      filter: drop-shadow(0px 1px 2px rgba(0, 0, 0, 0.3));\n",
              "      fill: #FFFFFF;\n",
              "    }\n",
              "  </style>\n",
              "\n",
              "      <script>\n",
              "        const buttonEl =\n",
              "          document.querySelector('#df-bafd8c95-af77-4c30-af72-e974ae1cfb30 button.colab-df-convert');\n",
              "        buttonEl.style.display =\n",
              "          google.colab.kernel.accessAllowed ? 'block' : 'none';\n",
              "\n",
              "        async function convertToInteractive(key) {\n",
              "          const element = document.querySelector('#df-bafd8c95-af77-4c30-af72-e974ae1cfb30');\n",
              "          const dataTable =\n",
              "            await google.colab.kernel.invokeFunction('convertToInteractive',\n",
              "                                                     [key], {});\n",
              "          if (!dataTable) return;\n",
              "\n",
              "          const docLinkHtml = 'Like what you see? Visit the ' +\n",
              "            '<a target=\"_blank\" href=https://colab.research.google.com/notebooks/data_table.ipynb>data table notebook</a>'\n",
              "            + ' to learn more about interactive tables.';\n",
              "          element.innerHTML = '';\n",
              "          dataTable['output_type'] = 'display_data';\n",
              "          await google.colab.output.renderOutput(dataTable, element);\n",
              "          const docLink = document.createElement('div');\n",
              "          docLink.innerHTML = docLinkHtml;\n",
              "          element.appendChild(docLink);\n",
              "        }\n",
              "      </script>\n",
              "    </div>\n",
              "  </div>\n",
              "  "
            ]
          },
          "metadata": {},
          "execution_count": 150
        }
      ],
      "source": [
        "df_job=pd.read_csv('/content/drive/MyDrive/data science/Job_Placement_Data.csv')\n",
        "df_job.head()\n"
      ]
    },
    {
      "cell_type": "markdown",
      "source": [
        "#2. **Show the last 5 rows of the dataset**"
      ],
      "metadata": {
        "id": "m7ayuwdyRBQQ"
      }
    },
    {
      "cell_type": "code",
      "source": [
        "df_job.tail()"
      ],
      "metadata": {
        "colab": {
          "base_uri": "https://localhost:8080/",
          "height": 206
        },
        "id": "3Zk0gnf9RAkQ",
        "outputId": "b2a66a2e-df62-43d8-c7fa-706a63f82b87"
      },
      "execution_count": null,
      "outputs": [
        {
          "output_type": "execute_result",
          "data": {
            "text/plain": [
              "    gender  ssc_percentage ssc_board  hsc_percentage hsc_board hsc_subject  \\\n",
              "210      M            80.6    Others            82.0    Others    Commerce   \n",
              "211      M            58.0    Others            60.0    Others     Science   \n",
              "212      M            67.0    Others            67.0    Others    Commerce   \n",
              "213      F            74.0    Others            66.0    Others    Commerce   \n",
              "214      M            62.0   Central            58.0    Others     Science   \n",
              "\n",
              "     degree_percentage undergrad_degree work_experience  emp_test_percentage  \\\n",
              "210               77.6        Comm&Mgmt              No                 91.0   \n",
              "211               72.0         Sci&Tech              No                 74.0   \n",
              "212               73.0        Comm&Mgmt             Yes                 59.0   \n",
              "213               58.0        Comm&Mgmt              No                 70.0   \n",
              "214               53.0        Comm&Mgmt              No                 89.0   \n",
              "\n",
              "    specialisation  mba_percent      status  \n",
              "210        Mkt&Fin        74.49      Placed  \n",
              "211        Mkt&Fin        53.62      Placed  \n",
              "212        Mkt&Fin        69.72      Placed  \n",
              "213         Mkt&HR        60.23      Placed  \n",
              "214         Mkt&HR        60.22  Not Placed  "
            ],
            "text/html": [
              "\n",
              "  <div id=\"df-f2bcd4fe-1e90-47bd-84d4-526ddf5e2bf4\">\n",
              "    <div class=\"colab-df-container\">\n",
              "      <div>\n",
              "<style scoped>\n",
              "    .dataframe tbody tr th:only-of-type {\n",
              "        vertical-align: middle;\n",
              "    }\n",
              "\n",
              "    .dataframe tbody tr th {\n",
              "        vertical-align: top;\n",
              "    }\n",
              "\n",
              "    .dataframe thead th {\n",
              "        text-align: right;\n",
              "    }\n",
              "</style>\n",
              "<table border=\"1\" class=\"dataframe\">\n",
              "  <thead>\n",
              "    <tr style=\"text-align: right;\">\n",
              "      <th></th>\n",
              "      <th>gender</th>\n",
              "      <th>ssc_percentage</th>\n",
              "      <th>ssc_board</th>\n",
              "      <th>hsc_percentage</th>\n",
              "      <th>hsc_board</th>\n",
              "      <th>hsc_subject</th>\n",
              "      <th>degree_percentage</th>\n",
              "      <th>undergrad_degree</th>\n",
              "      <th>work_experience</th>\n",
              "      <th>emp_test_percentage</th>\n",
              "      <th>specialisation</th>\n",
              "      <th>mba_percent</th>\n",
              "      <th>status</th>\n",
              "    </tr>\n",
              "  </thead>\n",
              "  <tbody>\n",
              "    <tr>\n",
              "      <th>210</th>\n",
              "      <td>M</td>\n",
              "      <td>80.6</td>\n",
              "      <td>Others</td>\n",
              "      <td>82.0</td>\n",
              "      <td>Others</td>\n",
              "      <td>Commerce</td>\n",
              "      <td>77.6</td>\n",
              "      <td>Comm&amp;Mgmt</td>\n",
              "      <td>No</td>\n",
              "      <td>91.0</td>\n",
              "      <td>Mkt&amp;Fin</td>\n",
              "      <td>74.49</td>\n",
              "      <td>Placed</td>\n",
              "    </tr>\n",
              "    <tr>\n",
              "      <th>211</th>\n",
              "      <td>M</td>\n",
              "      <td>58.0</td>\n",
              "      <td>Others</td>\n",
              "      <td>60.0</td>\n",
              "      <td>Others</td>\n",
              "      <td>Science</td>\n",
              "      <td>72.0</td>\n",
              "      <td>Sci&amp;Tech</td>\n",
              "      <td>No</td>\n",
              "      <td>74.0</td>\n",
              "      <td>Mkt&amp;Fin</td>\n",
              "      <td>53.62</td>\n",
              "      <td>Placed</td>\n",
              "    </tr>\n",
              "    <tr>\n",
              "      <th>212</th>\n",
              "      <td>M</td>\n",
              "      <td>67.0</td>\n",
              "      <td>Others</td>\n",
              "      <td>67.0</td>\n",
              "      <td>Others</td>\n",
              "      <td>Commerce</td>\n",
              "      <td>73.0</td>\n",
              "      <td>Comm&amp;Mgmt</td>\n",
              "      <td>Yes</td>\n",
              "      <td>59.0</td>\n",
              "      <td>Mkt&amp;Fin</td>\n",
              "      <td>69.72</td>\n",
              "      <td>Placed</td>\n",
              "    </tr>\n",
              "    <tr>\n",
              "      <th>213</th>\n",
              "      <td>F</td>\n",
              "      <td>74.0</td>\n",
              "      <td>Others</td>\n",
              "      <td>66.0</td>\n",
              "      <td>Others</td>\n",
              "      <td>Commerce</td>\n",
              "      <td>58.0</td>\n",
              "      <td>Comm&amp;Mgmt</td>\n",
              "      <td>No</td>\n",
              "      <td>70.0</td>\n",
              "      <td>Mkt&amp;HR</td>\n",
              "      <td>60.23</td>\n",
              "      <td>Placed</td>\n",
              "    </tr>\n",
              "    <tr>\n",
              "      <th>214</th>\n",
              "      <td>M</td>\n",
              "      <td>62.0</td>\n",
              "      <td>Central</td>\n",
              "      <td>58.0</td>\n",
              "      <td>Others</td>\n",
              "      <td>Science</td>\n",
              "      <td>53.0</td>\n",
              "      <td>Comm&amp;Mgmt</td>\n",
              "      <td>No</td>\n",
              "      <td>89.0</td>\n",
              "      <td>Mkt&amp;HR</td>\n",
              "      <td>60.22</td>\n",
              "      <td>Not Placed</td>\n",
              "    </tr>\n",
              "  </tbody>\n",
              "</table>\n",
              "</div>\n",
              "      <button class=\"colab-df-convert\" onclick=\"convertToInteractive('df-f2bcd4fe-1e90-47bd-84d4-526ddf5e2bf4')\"\n",
              "              title=\"Convert this dataframe to an interactive table.\"\n",
              "              style=\"display:none;\">\n",
              "        \n",
              "  <svg xmlns=\"http://www.w3.org/2000/svg\" height=\"24px\"viewBox=\"0 0 24 24\"\n",
              "       width=\"24px\">\n",
              "    <path d=\"M0 0h24v24H0V0z\" fill=\"none\"/>\n",
              "    <path d=\"M18.56 5.44l.94 2.06.94-2.06 2.06-.94-2.06-.94-.94-2.06-.94 2.06-2.06.94zm-11 1L8.5 8.5l.94-2.06 2.06-.94-2.06-.94L8.5 2.5l-.94 2.06-2.06.94zm10 10l.94 2.06.94-2.06 2.06-.94-2.06-.94-.94-2.06-.94 2.06-2.06.94z\"/><path d=\"M17.41 7.96l-1.37-1.37c-.4-.4-.92-.59-1.43-.59-.52 0-1.04.2-1.43.59L10.3 9.45l-7.72 7.72c-.78.78-.78 2.05 0 2.83L4 21.41c.39.39.9.59 1.41.59.51 0 1.02-.2 1.41-.59l7.78-7.78 2.81-2.81c.8-.78.8-2.07 0-2.86zM5.41 20L4 18.59l7.72-7.72 1.47 1.35L5.41 20z\"/>\n",
              "  </svg>\n",
              "      </button>\n",
              "      \n",
              "  <style>\n",
              "    .colab-df-container {\n",
              "      display:flex;\n",
              "      flex-wrap:wrap;\n",
              "      gap: 12px;\n",
              "    }\n",
              "\n",
              "    .colab-df-convert {\n",
              "      background-color: #E8F0FE;\n",
              "      border: none;\n",
              "      border-radius: 50%;\n",
              "      cursor: pointer;\n",
              "      display: none;\n",
              "      fill: #1967D2;\n",
              "      height: 32px;\n",
              "      padding: 0 0 0 0;\n",
              "      width: 32px;\n",
              "    }\n",
              "\n",
              "    .colab-df-convert:hover {\n",
              "      background-color: #E2EBFA;\n",
              "      box-shadow: 0px 1px 2px rgba(60, 64, 67, 0.3), 0px 1px 3px 1px rgba(60, 64, 67, 0.15);\n",
              "      fill: #174EA6;\n",
              "    }\n",
              "\n",
              "    [theme=dark] .colab-df-convert {\n",
              "      background-color: #3B4455;\n",
              "      fill: #D2E3FC;\n",
              "    }\n",
              "\n",
              "    [theme=dark] .colab-df-convert:hover {\n",
              "      background-color: #434B5C;\n",
              "      box-shadow: 0px 1px 3px 1px rgba(0, 0, 0, 0.15);\n",
              "      filter: drop-shadow(0px 1px 2px rgba(0, 0, 0, 0.3));\n",
              "      fill: #FFFFFF;\n",
              "    }\n",
              "  </style>\n",
              "\n",
              "      <script>\n",
              "        const buttonEl =\n",
              "          document.querySelector('#df-f2bcd4fe-1e90-47bd-84d4-526ddf5e2bf4 button.colab-df-convert');\n",
              "        buttonEl.style.display =\n",
              "          google.colab.kernel.accessAllowed ? 'block' : 'none';\n",
              "\n",
              "        async function convertToInteractive(key) {\n",
              "          const element = document.querySelector('#df-f2bcd4fe-1e90-47bd-84d4-526ddf5e2bf4');\n",
              "          const dataTable =\n",
              "            await google.colab.kernel.invokeFunction('convertToInteractive',\n",
              "                                                     [key], {});\n",
              "          if (!dataTable) return;\n",
              "\n",
              "          const docLinkHtml = 'Like what you see? Visit the ' +\n",
              "            '<a target=\"_blank\" href=https://colab.research.google.com/notebooks/data_table.ipynb>data table notebook</a>'\n",
              "            + ' to learn more about interactive tables.';\n",
              "          element.innerHTML = '';\n",
              "          dataTable['output_type'] = 'display_data';\n",
              "          await google.colab.output.renderOutput(dataTable, element);\n",
              "          const docLink = document.createElement('div');\n",
              "          docLink.innerHTML = docLinkHtml;\n",
              "          element.appendChild(docLink);\n",
              "        }\n",
              "      </script>\n",
              "    </div>\n",
              "  </div>\n",
              "  "
            ]
          },
          "metadata": {},
          "execution_count": 151
        }
      ]
    },
    {
      "cell_type": "markdown",
      "source": [
        "#3.**Show the shape of the dataset**"
      ],
      "metadata": {
        "id": "PI-qjInmRkaO"
      }
    },
    {
      "cell_type": "code",
      "source": [
        "df_job.shape"
      ],
      "metadata": {
        "colab": {
          "base_uri": "https://localhost:8080/"
        },
        "id": "k_JqQh3ORe66",
        "outputId": "50d18929-bdb2-4983-ae21-333c8f8aa728"
      },
      "execution_count": null,
      "outputs": [
        {
          "output_type": "execute_result",
          "data": {
            "text/plain": [
              "(215, 13)"
            ]
          },
          "metadata": {},
          "execution_count": 152
        }
      ]
    },
    {
      "cell_type": "markdown",
      "source": [
        "#4.**Find if there are any missing values**"
      ],
      "metadata": {
        "id": "D6xDcR6kSM-S"
      }
    },
    {
      "cell_type": "code",
      "source": [
        "df_job.isna().sum() #--> used for finding any missing values"
      ],
      "metadata": {
        "colab": {
          "base_uri": "https://localhost:8080/"
        },
        "id": "VBzDGYifLcgY",
        "outputId": "6688e8e5-ad5b-417f-faf1-7b1fd3a437dd"
      },
      "execution_count": null,
      "outputs": [
        {
          "output_type": "execute_result",
          "data": {
            "text/plain": [
              "gender                 0\n",
              "ssc_percentage         0\n",
              "ssc_board              0\n",
              "hsc_percentage         0\n",
              "hsc_board              0\n",
              "hsc_subject            0\n",
              "degree_percentage      0\n",
              "undergrad_degree       0\n",
              "work_experience        0\n",
              "emp_test_percentage    0\n",
              "specialisation         0\n",
              "mba_percent            0\n",
              "status                 0\n",
              "dtype: int64"
            ]
          },
          "metadata": {},
          "execution_count": 153
        }
      ]
    },
    {
      "cell_type": "markdown",
      "source": [
        "#5. **Display the type datas in this dataset**"
      ],
      "metadata": {
        "id": "SEozw4DBSZJm"
      }
    },
    {
      "cell_type": "code",
      "source": [
        "df_job.dtypes # used to find the data types in this data set"
      ],
      "metadata": {
        "colab": {
          "base_uri": "https://localhost:8080/"
        },
        "id": "u2qkkUFhLqMZ",
        "outputId": "39595dbf-ab98-46aa-db4f-e2b3dc2c3a66"
      },
      "execution_count": null,
      "outputs": [
        {
          "output_type": "execute_result",
          "data": {
            "text/plain": [
              "gender                  object\n",
              "ssc_percentage         float64\n",
              "ssc_board               object\n",
              "hsc_percentage         float64\n",
              "hsc_board               object\n",
              "hsc_subject             object\n",
              "degree_percentage      float64\n",
              "undergrad_degree        object\n",
              "work_experience         object\n",
              "emp_test_percentage    float64\n",
              "specialisation          object\n",
              "mba_percent            float64\n",
              "status                  object\n",
              "dtype: object"
            ]
          },
          "metadata": {},
          "execution_count": 154
        }
      ]
    },
    {
      "cell_type": "markdown",
      "source": [
        "#6.**to get overall statistics of the dataset**"
      ],
      "metadata": {
        "id": "tgMP2a73TMFn"
      }
    },
    {
      "cell_type": "code",
      "source": [
        "df_job.describe()"
      ],
      "metadata": {
        "colab": {
          "base_uri": "https://localhost:8080/",
          "height": 300
        },
        "id": "NO3e7zFQTZ3J",
        "outputId": "a25aefaf-3b59-44cb-ed2a-d195427bc600"
      },
      "execution_count": null,
      "outputs": [
        {
          "output_type": "execute_result",
          "data": {
            "text/plain": [
              "       ssc_percentage  hsc_percentage  degree_percentage  emp_test_percentage  \\\n",
              "count      215.000000      215.000000         215.000000           215.000000   \n",
              "mean        67.303395       66.333163          66.370186            72.100558   \n",
              "std         10.827205       10.897509           7.358743            13.275956   \n",
              "min         40.890000       37.000000          50.000000            50.000000   \n",
              "25%         60.600000       60.900000          61.000000            60.000000   \n",
              "50%         67.000000       65.000000          66.000000            71.000000   \n",
              "75%         75.700000       73.000000          72.000000            83.500000   \n",
              "max         89.400000       97.700000          91.000000            98.000000   \n",
              "\n",
              "       mba_percent  \n",
              "count   215.000000  \n",
              "mean     62.278186  \n",
              "std       5.833385  \n",
              "min      51.210000  \n",
              "25%      57.945000  \n",
              "50%      62.000000  \n",
              "75%      66.255000  \n",
              "max      77.890000  "
            ],
            "text/html": [
              "\n",
              "  <div id=\"df-4ba8da50-247f-459d-81ad-c6760d3be2ad\">\n",
              "    <div class=\"colab-df-container\">\n",
              "      <div>\n",
              "<style scoped>\n",
              "    .dataframe tbody tr th:only-of-type {\n",
              "        vertical-align: middle;\n",
              "    }\n",
              "\n",
              "    .dataframe tbody tr th {\n",
              "        vertical-align: top;\n",
              "    }\n",
              "\n",
              "    .dataframe thead th {\n",
              "        text-align: right;\n",
              "    }\n",
              "</style>\n",
              "<table border=\"1\" class=\"dataframe\">\n",
              "  <thead>\n",
              "    <tr style=\"text-align: right;\">\n",
              "      <th></th>\n",
              "      <th>ssc_percentage</th>\n",
              "      <th>hsc_percentage</th>\n",
              "      <th>degree_percentage</th>\n",
              "      <th>emp_test_percentage</th>\n",
              "      <th>mba_percent</th>\n",
              "    </tr>\n",
              "  </thead>\n",
              "  <tbody>\n",
              "    <tr>\n",
              "      <th>count</th>\n",
              "      <td>215.000000</td>\n",
              "      <td>215.000000</td>\n",
              "      <td>215.000000</td>\n",
              "      <td>215.000000</td>\n",
              "      <td>215.000000</td>\n",
              "    </tr>\n",
              "    <tr>\n",
              "      <th>mean</th>\n",
              "      <td>67.303395</td>\n",
              "      <td>66.333163</td>\n",
              "      <td>66.370186</td>\n",
              "      <td>72.100558</td>\n",
              "      <td>62.278186</td>\n",
              "    </tr>\n",
              "    <tr>\n",
              "      <th>std</th>\n",
              "      <td>10.827205</td>\n",
              "      <td>10.897509</td>\n",
              "      <td>7.358743</td>\n",
              "      <td>13.275956</td>\n",
              "      <td>5.833385</td>\n",
              "    </tr>\n",
              "    <tr>\n",
              "      <th>min</th>\n",
              "      <td>40.890000</td>\n",
              "      <td>37.000000</td>\n",
              "      <td>50.000000</td>\n",
              "      <td>50.000000</td>\n",
              "      <td>51.210000</td>\n",
              "    </tr>\n",
              "    <tr>\n",
              "      <th>25%</th>\n",
              "      <td>60.600000</td>\n",
              "      <td>60.900000</td>\n",
              "      <td>61.000000</td>\n",
              "      <td>60.000000</td>\n",
              "      <td>57.945000</td>\n",
              "    </tr>\n",
              "    <tr>\n",
              "      <th>50%</th>\n",
              "      <td>67.000000</td>\n",
              "      <td>65.000000</td>\n",
              "      <td>66.000000</td>\n",
              "      <td>71.000000</td>\n",
              "      <td>62.000000</td>\n",
              "    </tr>\n",
              "    <tr>\n",
              "      <th>75%</th>\n",
              "      <td>75.700000</td>\n",
              "      <td>73.000000</td>\n",
              "      <td>72.000000</td>\n",
              "      <td>83.500000</td>\n",
              "      <td>66.255000</td>\n",
              "    </tr>\n",
              "    <tr>\n",
              "      <th>max</th>\n",
              "      <td>89.400000</td>\n",
              "      <td>97.700000</td>\n",
              "      <td>91.000000</td>\n",
              "      <td>98.000000</td>\n",
              "      <td>77.890000</td>\n",
              "    </tr>\n",
              "  </tbody>\n",
              "</table>\n",
              "</div>\n",
              "      <button class=\"colab-df-convert\" onclick=\"convertToInteractive('df-4ba8da50-247f-459d-81ad-c6760d3be2ad')\"\n",
              "              title=\"Convert this dataframe to an interactive table.\"\n",
              "              style=\"display:none;\">\n",
              "        \n",
              "  <svg xmlns=\"http://www.w3.org/2000/svg\" height=\"24px\"viewBox=\"0 0 24 24\"\n",
              "       width=\"24px\">\n",
              "    <path d=\"M0 0h24v24H0V0z\" fill=\"none\"/>\n",
              "    <path d=\"M18.56 5.44l.94 2.06.94-2.06 2.06-.94-2.06-.94-.94-2.06-.94 2.06-2.06.94zm-11 1L8.5 8.5l.94-2.06 2.06-.94-2.06-.94L8.5 2.5l-.94 2.06-2.06.94zm10 10l.94 2.06.94-2.06 2.06-.94-2.06-.94-.94-2.06-.94 2.06-2.06.94z\"/><path d=\"M17.41 7.96l-1.37-1.37c-.4-.4-.92-.59-1.43-.59-.52 0-1.04.2-1.43.59L10.3 9.45l-7.72 7.72c-.78.78-.78 2.05 0 2.83L4 21.41c.39.39.9.59 1.41.59.51 0 1.02-.2 1.41-.59l7.78-7.78 2.81-2.81c.8-.78.8-2.07 0-2.86zM5.41 20L4 18.59l7.72-7.72 1.47 1.35L5.41 20z\"/>\n",
              "  </svg>\n",
              "      </button>\n",
              "      \n",
              "  <style>\n",
              "    .colab-df-container {\n",
              "      display:flex;\n",
              "      flex-wrap:wrap;\n",
              "      gap: 12px;\n",
              "    }\n",
              "\n",
              "    .colab-df-convert {\n",
              "      background-color: #E8F0FE;\n",
              "      border: none;\n",
              "      border-radius: 50%;\n",
              "      cursor: pointer;\n",
              "      display: none;\n",
              "      fill: #1967D2;\n",
              "      height: 32px;\n",
              "      padding: 0 0 0 0;\n",
              "      width: 32px;\n",
              "    }\n",
              "\n",
              "    .colab-df-convert:hover {\n",
              "      background-color: #E2EBFA;\n",
              "      box-shadow: 0px 1px 2px rgba(60, 64, 67, 0.3), 0px 1px 3px 1px rgba(60, 64, 67, 0.15);\n",
              "      fill: #174EA6;\n",
              "    }\n",
              "\n",
              "    [theme=dark] .colab-df-convert {\n",
              "      background-color: #3B4455;\n",
              "      fill: #D2E3FC;\n",
              "    }\n",
              "\n",
              "    [theme=dark] .colab-df-convert:hover {\n",
              "      background-color: #434B5C;\n",
              "      box-shadow: 0px 1px 3px 1px rgba(0, 0, 0, 0.15);\n",
              "      filter: drop-shadow(0px 1px 2px rgba(0, 0, 0, 0.3));\n",
              "      fill: #FFFFFF;\n",
              "    }\n",
              "  </style>\n",
              "\n",
              "      <script>\n",
              "        const buttonEl =\n",
              "          document.querySelector('#df-4ba8da50-247f-459d-81ad-c6760d3be2ad button.colab-df-convert');\n",
              "        buttonEl.style.display =\n",
              "          google.colab.kernel.accessAllowed ? 'block' : 'none';\n",
              "\n",
              "        async function convertToInteractive(key) {\n",
              "          const element = document.querySelector('#df-4ba8da50-247f-459d-81ad-c6760d3be2ad');\n",
              "          const dataTable =\n",
              "            await google.colab.kernel.invokeFunction('convertToInteractive',\n",
              "                                                     [key], {});\n",
              "          if (!dataTable) return;\n",
              "\n",
              "          const docLinkHtml = 'Like what you see? Visit the ' +\n",
              "            '<a target=\"_blank\" href=https://colab.research.google.com/notebooks/data_table.ipynb>data table notebook</a>'\n",
              "            + ' to learn more about interactive tables.';\n",
              "          element.innerHTML = '';\n",
              "          dataTable['output_type'] = 'display_data';\n",
              "          await google.colab.output.renderOutput(dataTable, element);\n",
              "          const docLink = document.createElement('div');\n",
              "          docLink.innerHTML = docLinkHtml;\n",
              "          element.appendChild(docLink);\n",
              "        }\n",
              "      </script>\n",
              "    </div>\n",
              "  </div>\n",
              "  "
            ]
          },
          "metadata": {},
          "execution_count": 155
        }
      ]
    },
    {
      "cell_type": "markdown",
      "source": [
        "#7. **Status of the students who are placed and not placed**"
      ],
      "metadata": {
        "id": "BhArtQkqUIVD"
      }
    },
    {
      "cell_type": "code",
      "source": [
        "df_job['status'].value_counts()"
      ],
      "metadata": {
        "colab": {
          "base_uri": "https://localhost:8080/"
        },
        "id": "nl1-3iZ2UU_U",
        "outputId": "33cc18d7-271e-443a-a578-74ffec1e0690"
      },
      "execution_count": null,
      "outputs": [
        {
          "output_type": "execute_result",
          "data": {
            "text/plain": [
              "Placed        148\n",
              "Not Placed     67\n",
              "Name: status, dtype: int64"
            ]
          },
          "metadata": {},
          "execution_count": 156
        }
      ]
    },
    {
      "cell_type": "markdown",
      "source": [
        "#8.**Data Encoding**"
      ],
      "metadata": {
        "id": "ZIt4-CRHVfkr"
      }
    },
    {
      "cell_type": "code",
      "source": [
        "df_job.head()"
      ],
      "metadata": {
        "colab": {
          "base_uri": "https://localhost:8080/",
          "height": 206
        },
        "id": "uH8zXL8DYGup",
        "outputId": "df340b6d-c264-4ff5-b89d-aee717bec126"
      },
      "execution_count": null,
      "outputs": [
        {
          "output_type": "execute_result",
          "data": {
            "text/plain": [
              "  gender  ssc_percentage ssc_board  hsc_percentage hsc_board hsc_subject  \\\n",
              "0      M           67.00    Others           91.00    Others    Commerce   \n",
              "1      M           79.33   Central           78.33    Others     Science   \n",
              "2      M           65.00   Central           68.00   Central        Arts   \n",
              "3      M           56.00   Central           52.00   Central     Science   \n",
              "4      M           85.80   Central           73.60   Central    Commerce   \n",
              "\n",
              "   degree_percentage undergrad_degree work_experience  emp_test_percentage  \\\n",
              "0              58.00         Sci&Tech              No                 55.0   \n",
              "1              77.48         Sci&Tech             Yes                 86.5   \n",
              "2              64.00        Comm&Mgmt              No                 75.0   \n",
              "3              52.00         Sci&Tech              No                 66.0   \n",
              "4              73.30        Comm&Mgmt              No                 96.8   \n",
              "\n",
              "  specialisation  mba_percent      status  \n",
              "0         Mkt&HR        58.80      Placed  \n",
              "1        Mkt&Fin        66.28      Placed  \n",
              "2        Mkt&Fin        57.80      Placed  \n",
              "3         Mkt&HR        59.43  Not Placed  \n",
              "4        Mkt&Fin        55.50      Placed  "
            ],
            "text/html": [
              "\n",
              "  <div id=\"df-98b3695c-6d48-49cb-900d-a05f2cd8b71f\">\n",
              "    <div class=\"colab-df-container\">\n",
              "      <div>\n",
              "<style scoped>\n",
              "    .dataframe tbody tr th:only-of-type {\n",
              "        vertical-align: middle;\n",
              "    }\n",
              "\n",
              "    .dataframe tbody tr th {\n",
              "        vertical-align: top;\n",
              "    }\n",
              "\n",
              "    .dataframe thead th {\n",
              "        text-align: right;\n",
              "    }\n",
              "</style>\n",
              "<table border=\"1\" class=\"dataframe\">\n",
              "  <thead>\n",
              "    <tr style=\"text-align: right;\">\n",
              "      <th></th>\n",
              "      <th>gender</th>\n",
              "      <th>ssc_percentage</th>\n",
              "      <th>ssc_board</th>\n",
              "      <th>hsc_percentage</th>\n",
              "      <th>hsc_board</th>\n",
              "      <th>hsc_subject</th>\n",
              "      <th>degree_percentage</th>\n",
              "      <th>undergrad_degree</th>\n",
              "      <th>work_experience</th>\n",
              "      <th>emp_test_percentage</th>\n",
              "      <th>specialisation</th>\n",
              "      <th>mba_percent</th>\n",
              "      <th>status</th>\n",
              "    </tr>\n",
              "  </thead>\n",
              "  <tbody>\n",
              "    <tr>\n",
              "      <th>0</th>\n",
              "      <td>M</td>\n",
              "      <td>67.00</td>\n",
              "      <td>Others</td>\n",
              "      <td>91.00</td>\n",
              "      <td>Others</td>\n",
              "      <td>Commerce</td>\n",
              "      <td>58.00</td>\n",
              "      <td>Sci&amp;Tech</td>\n",
              "      <td>No</td>\n",
              "      <td>55.0</td>\n",
              "      <td>Mkt&amp;HR</td>\n",
              "      <td>58.80</td>\n",
              "      <td>Placed</td>\n",
              "    </tr>\n",
              "    <tr>\n",
              "      <th>1</th>\n",
              "      <td>M</td>\n",
              "      <td>79.33</td>\n",
              "      <td>Central</td>\n",
              "      <td>78.33</td>\n",
              "      <td>Others</td>\n",
              "      <td>Science</td>\n",
              "      <td>77.48</td>\n",
              "      <td>Sci&amp;Tech</td>\n",
              "      <td>Yes</td>\n",
              "      <td>86.5</td>\n",
              "      <td>Mkt&amp;Fin</td>\n",
              "      <td>66.28</td>\n",
              "      <td>Placed</td>\n",
              "    </tr>\n",
              "    <tr>\n",
              "      <th>2</th>\n",
              "      <td>M</td>\n",
              "      <td>65.00</td>\n",
              "      <td>Central</td>\n",
              "      <td>68.00</td>\n",
              "      <td>Central</td>\n",
              "      <td>Arts</td>\n",
              "      <td>64.00</td>\n",
              "      <td>Comm&amp;Mgmt</td>\n",
              "      <td>No</td>\n",
              "      <td>75.0</td>\n",
              "      <td>Mkt&amp;Fin</td>\n",
              "      <td>57.80</td>\n",
              "      <td>Placed</td>\n",
              "    </tr>\n",
              "    <tr>\n",
              "      <th>3</th>\n",
              "      <td>M</td>\n",
              "      <td>56.00</td>\n",
              "      <td>Central</td>\n",
              "      <td>52.00</td>\n",
              "      <td>Central</td>\n",
              "      <td>Science</td>\n",
              "      <td>52.00</td>\n",
              "      <td>Sci&amp;Tech</td>\n",
              "      <td>No</td>\n",
              "      <td>66.0</td>\n",
              "      <td>Mkt&amp;HR</td>\n",
              "      <td>59.43</td>\n",
              "      <td>Not Placed</td>\n",
              "    </tr>\n",
              "    <tr>\n",
              "      <th>4</th>\n",
              "      <td>M</td>\n",
              "      <td>85.80</td>\n",
              "      <td>Central</td>\n",
              "      <td>73.60</td>\n",
              "      <td>Central</td>\n",
              "      <td>Commerce</td>\n",
              "      <td>73.30</td>\n",
              "      <td>Comm&amp;Mgmt</td>\n",
              "      <td>No</td>\n",
              "      <td>96.8</td>\n",
              "      <td>Mkt&amp;Fin</td>\n",
              "      <td>55.50</td>\n",
              "      <td>Placed</td>\n",
              "    </tr>\n",
              "  </tbody>\n",
              "</table>\n",
              "</div>\n",
              "      <button class=\"colab-df-convert\" onclick=\"convertToInteractive('df-98b3695c-6d48-49cb-900d-a05f2cd8b71f')\"\n",
              "              title=\"Convert this dataframe to an interactive table.\"\n",
              "              style=\"display:none;\">\n",
              "        \n",
              "  <svg xmlns=\"http://www.w3.org/2000/svg\" height=\"24px\"viewBox=\"0 0 24 24\"\n",
              "       width=\"24px\">\n",
              "    <path d=\"M0 0h24v24H0V0z\" fill=\"none\"/>\n",
              "    <path d=\"M18.56 5.44l.94 2.06.94-2.06 2.06-.94-2.06-.94-.94-2.06-.94 2.06-2.06.94zm-11 1L8.5 8.5l.94-2.06 2.06-.94-2.06-.94L8.5 2.5l-.94 2.06-2.06.94zm10 10l.94 2.06.94-2.06 2.06-.94-2.06-.94-.94-2.06-.94 2.06-2.06.94z\"/><path d=\"M17.41 7.96l-1.37-1.37c-.4-.4-.92-.59-1.43-.59-.52 0-1.04.2-1.43.59L10.3 9.45l-7.72 7.72c-.78.78-.78 2.05 0 2.83L4 21.41c.39.39.9.59 1.41.59.51 0 1.02-.2 1.41-.59l7.78-7.78 2.81-2.81c.8-.78.8-2.07 0-2.86zM5.41 20L4 18.59l7.72-7.72 1.47 1.35L5.41 20z\"/>\n",
              "  </svg>\n",
              "      </button>\n",
              "      \n",
              "  <style>\n",
              "    .colab-df-container {\n",
              "      display:flex;\n",
              "      flex-wrap:wrap;\n",
              "      gap: 12px;\n",
              "    }\n",
              "\n",
              "    .colab-df-convert {\n",
              "      background-color: #E8F0FE;\n",
              "      border: none;\n",
              "      border-radius: 50%;\n",
              "      cursor: pointer;\n",
              "      display: none;\n",
              "      fill: #1967D2;\n",
              "      height: 32px;\n",
              "      padding: 0 0 0 0;\n",
              "      width: 32px;\n",
              "    }\n",
              "\n",
              "    .colab-df-convert:hover {\n",
              "      background-color: #E2EBFA;\n",
              "      box-shadow: 0px 1px 2px rgba(60, 64, 67, 0.3), 0px 1px 3px 1px rgba(60, 64, 67, 0.15);\n",
              "      fill: #174EA6;\n",
              "    }\n",
              "\n",
              "    [theme=dark] .colab-df-convert {\n",
              "      background-color: #3B4455;\n",
              "      fill: #D2E3FC;\n",
              "    }\n",
              "\n",
              "    [theme=dark] .colab-df-convert:hover {\n",
              "      background-color: #434B5C;\n",
              "      box-shadow: 0px 1px 3px 1px rgba(0, 0, 0, 0.15);\n",
              "      filter: drop-shadow(0px 1px 2px rgba(0, 0, 0, 0.3));\n",
              "      fill: #FFFFFF;\n",
              "    }\n",
              "  </style>\n",
              "\n",
              "      <script>\n",
              "        const buttonEl =\n",
              "          document.querySelector('#df-98b3695c-6d48-49cb-900d-a05f2cd8b71f button.colab-df-convert');\n",
              "        buttonEl.style.display =\n",
              "          google.colab.kernel.accessAllowed ? 'block' : 'none';\n",
              "\n",
              "        async function convertToInteractive(key) {\n",
              "          const element = document.querySelector('#df-98b3695c-6d48-49cb-900d-a05f2cd8b71f');\n",
              "          const dataTable =\n",
              "            await google.colab.kernel.invokeFunction('convertToInteractive',\n",
              "                                                     [key], {});\n",
              "          if (!dataTable) return;\n",
              "\n",
              "          const docLinkHtml = 'Like what you see? Visit the ' +\n",
              "            '<a target=\"_blank\" href=https://colab.research.google.com/notebooks/data_table.ipynb>data table notebook</a>'\n",
              "            + ' to learn more about interactive tables.';\n",
              "          element.innerHTML = '';\n",
              "          dataTable['output_type'] = 'display_data';\n",
              "          await google.colab.output.renderOutput(dataTable, element);\n",
              "          const docLink = document.createElement('div');\n",
              "          docLink.innerHTML = docLinkHtml;\n",
              "          element.appendChild(docLink);\n",
              "        }\n",
              "      </script>\n",
              "    </div>\n",
              "  </div>\n",
              "  "
            ]
          },
          "metadata": {},
          "execution_count": 157
        }
      ]
    },
    {
      "cell_type": "code",
      "source": [
        "df_job['gender'].unique()"
      ],
      "metadata": {
        "colab": {
          "base_uri": "https://localhost:8080/"
        },
        "id": "PkOJN4cOg51-",
        "outputId": "cfdb67d6-194c-4fc9-e5ed-b6090234ce03"
      },
      "execution_count": null,
      "outputs": [
        {
          "output_type": "execute_result",
          "data": {
            "text/plain": [
              "array(['M', 'F'], dtype=object)"
            ]
          },
          "metadata": {},
          "execution_count": 158
        }
      ]
    },
    {
      "cell_type": "code",
      "source": [
        "df_job['ssc_board'].unique()\n"
      ],
      "metadata": {
        "colab": {
          "base_uri": "https://localhost:8080/"
        },
        "id": "v6A68acVVo4F",
        "outputId": "63ee67e8-44b1-488b-a1fe-6333621fff05"
      },
      "execution_count": null,
      "outputs": [
        {
          "output_type": "execute_result",
          "data": {
            "text/plain": [
              "array(['Others', 'Central'], dtype=object)"
            ]
          },
          "metadata": {},
          "execution_count": 159
        }
      ]
    },
    {
      "cell_type": "code",
      "source": [
        "df_job['hsc_board'].unique()"
      ],
      "metadata": {
        "colab": {
          "base_uri": "https://localhost:8080/"
        },
        "id": "aIWVGj-vZLG1",
        "outputId": "28588fd4-2b39-46cd-80e9-4433613feaeb"
      },
      "execution_count": null,
      "outputs": [
        {
          "output_type": "execute_result",
          "data": {
            "text/plain": [
              "array(['Others', 'Central'], dtype=object)"
            ]
          },
          "metadata": {},
          "execution_count": 160
        }
      ]
    },
    {
      "cell_type": "code",
      "source": [
        "df_job['hsc_subject'].unique()"
      ],
      "metadata": {
        "colab": {
          "base_uri": "https://localhost:8080/"
        },
        "id": "TXQ49vv2Wf_x",
        "outputId": "aca8d710-6987-4284-84bb-754c388e287a"
      },
      "execution_count": null,
      "outputs": [
        {
          "output_type": "execute_result",
          "data": {
            "text/plain": [
              "array(['Commerce', 'Science', 'Arts'], dtype=object)"
            ]
          },
          "metadata": {},
          "execution_count": 161
        }
      ]
    },
    {
      "cell_type": "code",
      "source": [
        "df_job['undergrad_degree'].unique()"
      ],
      "metadata": {
        "colab": {
          "base_uri": "https://localhost:8080/"
        },
        "id": "0wR8Lod3ciGz",
        "outputId": "9cf8a9f7-e2bc-4edb-dbf6-1020083af5c5"
      },
      "execution_count": null,
      "outputs": [
        {
          "output_type": "execute_result",
          "data": {
            "text/plain": [
              "array(['Sci&Tech', 'Comm&Mgmt', 'Others'], dtype=object)"
            ]
          },
          "metadata": {},
          "execution_count": 162
        }
      ]
    },
    {
      "cell_type": "code",
      "source": [
        "df_job['work_experience'].unique()"
      ],
      "metadata": {
        "colab": {
          "base_uri": "https://localhost:8080/"
        },
        "id": "D3T20gQgWfa_",
        "outputId": "a6d12627-886c-459e-c0fe-0b5e3b7d234b"
      },
      "execution_count": null,
      "outputs": [
        {
          "output_type": "execute_result",
          "data": {
            "text/plain": [
              "array(['No', 'Yes'], dtype=object)"
            ]
          },
          "metadata": {},
          "execution_count": 163
        }
      ]
    },
    {
      "cell_type": "code",
      "source": [
        "df_job['specialisation'].unique()"
      ],
      "metadata": {
        "colab": {
          "base_uri": "https://localhost:8080/"
        },
        "id": "BiJH0gx-Wfhl",
        "outputId": "15d5ff58-bbe3-43cc-e29e-6428fa79ee46"
      },
      "execution_count": null,
      "outputs": [
        {
          "output_type": "execute_result",
          "data": {
            "text/plain": [
              "array(['Mkt&HR', 'Mkt&Fin'], dtype=object)"
            ]
          },
          "metadata": {},
          "execution_count": 164
        }
      ]
    },
    {
      "cell_type": "code",
      "source": [
        "df_job['status'].unique()"
      ],
      "metadata": {
        "colab": {
          "base_uri": "https://localhost:8080/"
        },
        "id": "zWUF0vzAgFjt",
        "outputId": "7d1a2f1f-6b63-4584-dde9-32187e5cd36d"
      },
      "execution_count": null,
      "outputs": [
        {
          "output_type": "execute_result",
          "data": {
            "text/plain": [
              "array(['Placed', 'Not Placed'], dtype=object)"
            ]
          },
          "metadata": {},
          "execution_count": 165
        }
      ]
    },
    {
      "cell_type": "code",
      "source": [
        "df_job['gender']=df_job['gender'].map({'M':0,'F':1})"
      ],
      "metadata": {
        "id": "LB8_PTtNhEda"
      },
      "execution_count": null,
      "outputs": []
    },
    {
      "cell_type": "code",
      "source": [
        "df_job['ssc_board']= df_job['ssc_board'].map({'Central':1,'Others':0})"
      ],
      "metadata": {
        "id": "n14WVWG0WgGF"
      },
      "execution_count": null,
      "outputs": []
    },
    {
      "cell_type": "code",
      "source": [
        "df_job['hsc_board']=df_job['hsc_board'].map({'Central':1,'Others':0})\n"
      ],
      "metadata": {
        "id": "Vb9ymjMNWgC6"
      },
      "execution_count": null,
      "outputs": []
    },
    {
      "cell_type": "code",
      "source": [
        "df_job['hsc_subject']=df_job['hsc_subject'].map({'Arts':0,'Commerce':1,'Science':2})\n"
      ],
      "metadata": {
        "id": "lJw5UtNKWfv6"
      },
      "execution_count": null,
      "outputs": []
    },
    {
      "cell_type": "code",
      "source": [
        "df_job['undergrad_degree']=df_job['undergrad_degree'].map({'Sci&Tech':2, 'Comm&Mgmt':1, 'Others':0})\n"
      ],
      "metadata": {
        "id": "iLeInikCWflf"
      },
      "execution_count": null,
      "outputs": []
    },
    {
      "cell_type": "code",
      "source": [
        "df_job['specialisation']=df_job['specialisation'].map({'Mkt&HR':1, 'Mkt&Fin':0})"
      ],
      "metadata": {
        "id": "c6xpSMzpWfd-"
      },
      "execution_count": null,
      "outputs": []
    },
    {
      "cell_type": "code",
      "source": [
        "df_job['work_experience']=df_job['work_experience'].map({'No':0,'Yes':1})\n",
        "\n"
      ],
      "metadata": {
        "id": "UZ9TDLSUWfXr"
      },
      "execution_count": null,
      "outputs": []
    },
    {
      "cell_type": "code",
      "source": [
        "df_job['status']=df_job['status'].map({'Placed':1,'Not Placed':0})\n",
        "df_job.head(3)"
      ],
      "metadata": {
        "id": "zHPc3oCOWfTh",
        "colab": {
          "base_uri": "https://localhost:8080/",
          "height": 143
        },
        "outputId": "1d2aa8c1-532c-4dc9-8c67-e9f066f70d13"
      },
      "execution_count": null,
      "outputs": [
        {
          "output_type": "execute_result",
          "data": {
            "text/plain": [
              "   gender  ssc_percentage  ssc_board  hsc_percentage  hsc_board  hsc_subject  \\\n",
              "0       0           67.00          0           91.00          0            1   \n",
              "1       0           79.33          1           78.33          0            2   \n",
              "2       0           65.00          1           68.00          1            0   \n",
              "\n",
              "   degree_percentage  undergrad_degree  work_experience  emp_test_percentage  \\\n",
              "0              58.00                 2                0                 55.0   \n",
              "1              77.48                 2                1                 86.5   \n",
              "2              64.00                 1                0                 75.0   \n",
              "\n",
              "   specialisation  mba_percent  status  \n",
              "0               1        58.80       1  \n",
              "1               0        66.28       1  \n",
              "2               0        57.80       1  "
            ],
            "text/html": [
              "\n",
              "  <div id=\"df-16a89874-4058-4d93-9240-617bcd493b85\">\n",
              "    <div class=\"colab-df-container\">\n",
              "      <div>\n",
              "<style scoped>\n",
              "    .dataframe tbody tr th:only-of-type {\n",
              "        vertical-align: middle;\n",
              "    }\n",
              "\n",
              "    .dataframe tbody tr th {\n",
              "        vertical-align: top;\n",
              "    }\n",
              "\n",
              "    .dataframe thead th {\n",
              "        text-align: right;\n",
              "    }\n",
              "</style>\n",
              "<table border=\"1\" class=\"dataframe\">\n",
              "  <thead>\n",
              "    <tr style=\"text-align: right;\">\n",
              "      <th></th>\n",
              "      <th>gender</th>\n",
              "      <th>ssc_percentage</th>\n",
              "      <th>ssc_board</th>\n",
              "      <th>hsc_percentage</th>\n",
              "      <th>hsc_board</th>\n",
              "      <th>hsc_subject</th>\n",
              "      <th>degree_percentage</th>\n",
              "      <th>undergrad_degree</th>\n",
              "      <th>work_experience</th>\n",
              "      <th>emp_test_percentage</th>\n",
              "      <th>specialisation</th>\n",
              "      <th>mba_percent</th>\n",
              "      <th>status</th>\n",
              "    </tr>\n",
              "  </thead>\n",
              "  <tbody>\n",
              "    <tr>\n",
              "      <th>0</th>\n",
              "      <td>0</td>\n",
              "      <td>67.00</td>\n",
              "      <td>0</td>\n",
              "      <td>91.00</td>\n",
              "      <td>0</td>\n",
              "      <td>1</td>\n",
              "      <td>58.00</td>\n",
              "      <td>2</td>\n",
              "      <td>0</td>\n",
              "      <td>55.0</td>\n",
              "      <td>1</td>\n",
              "      <td>58.80</td>\n",
              "      <td>1</td>\n",
              "    </tr>\n",
              "    <tr>\n",
              "      <th>1</th>\n",
              "      <td>0</td>\n",
              "      <td>79.33</td>\n",
              "      <td>1</td>\n",
              "      <td>78.33</td>\n",
              "      <td>0</td>\n",
              "      <td>2</td>\n",
              "      <td>77.48</td>\n",
              "      <td>2</td>\n",
              "      <td>1</td>\n",
              "      <td>86.5</td>\n",
              "      <td>0</td>\n",
              "      <td>66.28</td>\n",
              "      <td>1</td>\n",
              "    </tr>\n",
              "    <tr>\n",
              "      <th>2</th>\n",
              "      <td>0</td>\n",
              "      <td>65.00</td>\n",
              "      <td>1</td>\n",
              "      <td>68.00</td>\n",
              "      <td>1</td>\n",
              "      <td>0</td>\n",
              "      <td>64.00</td>\n",
              "      <td>1</td>\n",
              "      <td>0</td>\n",
              "      <td>75.0</td>\n",
              "      <td>0</td>\n",
              "      <td>57.80</td>\n",
              "      <td>1</td>\n",
              "    </tr>\n",
              "  </tbody>\n",
              "</table>\n",
              "</div>\n",
              "      <button class=\"colab-df-convert\" onclick=\"convertToInteractive('df-16a89874-4058-4d93-9240-617bcd493b85')\"\n",
              "              title=\"Convert this dataframe to an interactive table.\"\n",
              "              style=\"display:none;\">\n",
              "        \n",
              "  <svg xmlns=\"http://www.w3.org/2000/svg\" height=\"24px\"viewBox=\"0 0 24 24\"\n",
              "       width=\"24px\">\n",
              "    <path d=\"M0 0h24v24H0V0z\" fill=\"none\"/>\n",
              "    <path d=\"M18.56 5.44l.94 2.06.94-2.06 2.06-.94-2.06-.94-.94-2.06-.94 2.06-2.06.94zm-11 1L8.5 8.5l.94-2.06 2.06-.94-2.06-.94L8.5 2.5l-.94 2.06-2.06.94zm10 10l.94 2.06.94-2.06 2.06-.94-2.06-.94-.94-2.06-.94 2.06-2.06.94z\"/><path d=\"M17.41 7.96l-1.37-1.37c-.4-.4-.92-.59-1.43-.59-.52 0-1.04.2-1.43.59L10.3 9.45l-7.72 7.72c-.78.78-.78 2.05 0 2.83L4 21.41c.39.39.9.59 1.41.59.51 0 1.02-.2 1.41-.59l7.78-7.78 2.81-2.81c.8-.78.8-2.07 0-2.86zM5.41 20L4 18.59l7.72-7.72 1.47 1.35L5.41 20z\"/>\n",
              "  </svg>\n",
              "      </button>\n",
              "      \n",
              "  <style>\n",
              "    .colab-df-container {\n",
              "      display:flex;\n",
              "      flex-wrap:wrap;\n",
              "      gap: 12px;\n",
              "    }\n",
              "\n",
              "    .colab-df-convert {\n",
              "      background-color: #E8F0FE;\n",
              "      border: none;\n",
              "      border-radius: 50%;\n",
              "      cursor: pointer;\n",
              "      display: none;\n",
              "      fill: #1967D2;\n",
              "      height: 32px;\n",
              "      padding: 0 0 0 0;\n",
              "      width: 32px;\n",
              "    }\n",
              "\n",
              "    .colab-df-convert:hover {\n",
              "      background-color: #E2EBFA;\n",
              "      box-shadow: 0px 1px 2px rgba(60, 64, 67, 0.3), 0px 1px 3px 1px rgba(60, 64, 67, 0.15);\n",
              "      fill: #174EA6;\n",
              "    }\n",
              "\n",
              "    [theme=dark] .colab-df-convert {\n",
              "      background-color: #3B4455;\n",
              "      fill: #D2E3FC;\n",
              "    }\n",
              "\n",
              "    [theme=dark] .colab-df-convert:hover {\n",
              "      background-color: #434B5C;\n",
              "      box-shadow: 0px 1px 3px 1px rgba(0, 0, 0, 0.15);\n",
              "      filter: drop-shadow(0px 1px 2px rgba(0, 0, 0, 0.3));\n",
              "      fill: #FFFFFF;\n",
              "    }\n",
              "  </style>\n",
              "\n",
              "      <script>\n",
              "        const buttonEl =\n",
              "          document.querySelector('#df-16a89874-4058-4d93-9240-617bcd493b85 button.colab-df-convert');\n",
              "        buttonEl.style.display =\n",
              "          google.colab.kernel.accessAllowed ? 'block' : 'none';\n",
              "\n",
              "        async function convertToInteractive(key) {\n",
              "          const element = document.querySelector('#df-16a89874-4058-4d93-9240-617bcd493b85');\n",
              "          const dataTable =\n",
              "            await google.colab.kernel.invokeFunction('convertToInteractive',\n",
              "                                                     [key], {});\n",
              "          if (!dataTable) return;\n",
              "\n",
              "          const docLinkHtml = 'Like what you see? Visit the ' +\n",
              "            '<a target=\"_blank\" href=https://colab.research.google.com/notebooks/data_table.ipynb>data table notebook</a>'\n",
              "            + ' to learn more about interactive tables.';\n",
              "          element.innerHTML = '';\n",
              "          dataTable['output_type'] = 'display_data';\n",
              "          await google.colab.output.renderOutput(dataTable, element);\n",
              "          const docLink = document.createElement('div');\n",
              "          docLink.innerHTML = docLinkHtml;\n",
              "          element.appendChild(docLink);\n",
              "        }\n",
              "      </script>\n",
              "    </div>\n",
              "  </div>\n",
              "  "
            ]
          },
          "metadata": {},
          "execution_count": 173
        }
      ]
    },
    {
      "cell_type": "markdown",
      "source": [
        "#9.**Storing feature matrix in X and target in Y**"
      ],
      "metadata": {
        "id": "M5GMvQlbhiL3"
      }
    },
    {
      "cell_type": "code",
      "source": [
        "df_job.columns"
      ],
      "metadata": {
        "colab": {
          "base_uri": "https://localhost:8080/"
        },
        "id": "tYN-BHP5hU0B",
        "outputId": "1267d726-446e-444f-d018-f009f0c9d01f"
      },
      "execution_count": null,
      "outputs": [
        {
          "output_type": "execute_result",
          "data": {
            "text/plain": [
              "Index(['gender', 'ssc_percentage', 'ssc_board', 'hsc_percentage', 'hsc_board',\n",
              "       'hsc_subject', 'degree_percentage', 'undergrad_degree',\n",
              "       'work_experience', 'emp_test_percentage', 'specialisation',\n",
              "       'mba_percent', 'status'],\n",
              "      dtype='object')"
            ]
          },
          "metadata": {},
          "execution_count": 174
        }
      ]
    },
    {
      "cell_type": "code",
      "source": [
        "X=df_job.iloc[:,:-1]\n",
        "y=df_job.iloc[:,-1]"
      ],
      "metadata": {
        "id": "R0bZz_Q6hUpy"
      },
      "execution_count": null,
      "outputs": []
    },
    {
      "cell_type": "markdown",
      "source": [
        "#10.**Train Test splitting**"
      ],
      "metadata": {
        "id": "QZJ4R_QrijY5"
      }
    },
    {
      "cell_type": "code",
      "source": [
        "from sklearn.model_selection import train_test_split\n",
        "X_train,X_test,y_train,y_test=train_test_split(X,y,test_size=0.3,random_state=1)"
      ],
      "metadata": {
        "id": "opJef0SSii3R"
      },
      "execution_count": null,
      "outputs": []
    },
    {
      "cell_type": "markdown",
      "source": [
        "#11.**Preprocessing**"
      ],
      "metadata": {
        "id": "LoJX3dKH_lnp"
      }
    },
    {
      "cell_type": "code",
      "source": [
        "from sklearn.preprocessing import StandardScaler\n",
        "sc=StandardScaler()\n",
        "sc.fit(X_train)\n",
        "X_train_new=sc.transform(X_train)\n",
        "X_test_new=sc.transform(X_test)\n",
        "X_train_new\n",
        "X_test_new\n"
      ],
      "metadata": {
        "id": "CG8XfyBaMLXl",
        "colab": {
          "base_uri": "https://localhost:8080/"
        },
        "outputId": "ef12fc38-78f6-4bf8-fb32-7aea35ca7bf7"
      },
      "execution_count": null,
      "outputs": [
        {
          "output_type": "execute_result",
          "data": {
            "text/plain": [
              "array([[-7.82881361e-01, -5.38958971e-01,  9.73679592e-01,\n",
              "         1.47523886e+00,  1.24192306e+00, -6.59431613e-01,\n",
              "         3.79096329e-01, -4.47213595e-01, -8.05202862e-01,\n",
              "         9.45851050e-01, -9.10641693e-01, -6.76741020e-01],\n",
              "       [-7.82881361e-01,  1.46818246e+00,  9.73679592e-01,\n",
              "         1.10877755e+00, -8.05202862e-01, -6.59431613e-01,\n",
              "        -7.53718041e-01, -4.47213595e-01,  1.24192306e+00,\n",
              "         1.30169427e+00, -9.10641693e-01,  1.60004180e+00],\n",
              "       [-7.82881361e-01, -5.31768137e-01, -1.02703190e+00,\n",
              "        -1.45645161e+00, -8.05202862e-01,  1.04599497e+00,\n",
              "        -1.74493061e+00,  1.46941610e+00, -8.05202862e-01,\n",
              "        -6.86142725e-02, -9.10641693e-01,  5.92341850e-01],\n",
              "       [-7.82881361e-01,  1.34863485e+00, -1.02703190e+00,\n",
              "         2.20816148e+00, -8.05202862e-01, -6.59431613e-01,\n",
              "         2.36152147e+00, -4.47213595e-01, -8.05202862e-01,\n",
              "         6.33707874e-01,  1.09812675e+00,  1.93880782e+00],\n",
              "       [-7.82881361e-01, -1.13220274e+00,  9.73679592e-01,\n",
              "        -4.37689172e-01,  1.24192306e+00, -6.59431613e-01,\n",
              "        -1.43340666e+00, -4.47213595e-01, -8.05202862e-01,\n",
              "        -3.80757449e-01,  1.09812675e+00,  6.95760067e-02],\n",
              "       [ 1.27733275e+00,  1.79806195e+00, -1.02703190e+00,\n",
              "        -8.22217024e-02, -8.05202862e-01,  1.04599497e+00,\n",
              "         2.07831788e+00, -4.47213595e-01,  1.24192306e+00,\n",
              "         1.25799423e+00, -9.10641693e-01,  1.81155561e+00],\n",
              "       [-7.82881361e-01, -1.29399650e+00,  9.73679592e-01,\n",
              "        -2.90848126e-02, -8.05202862e-01,  1.04599497e+00,\n",
              "         8.19477915e-01,  1.46941610e+00, -8.05202862e-01,\n",
              "        -1.11429391e+00, -9.10641693e-01, -9.60479060e-01],\n",
              "       [ 1.27733275e+00,  7.55391077e-01, -1.02703190e+00,\n",
              "        -4.94490675e-01,  1.24192306e+00,  1.04599497e+00,\n",
              "         2.50312327e+00,  1.46941610e+00, -8.05202862e-01,\n",
              "         2.03835217e+00, -9.10641693e-01,  5.16678373e-01],\n",
              "       [-7.82881361e-01,  1.69019945e+00,  9.73679592e-01,\n",
              "         7.05670112e-01,  1.24192306e+00, -6.59431613e-01,\n",
              "         9.87984052e-01, -4.47213595e-01, -8.05202862e-01,\n",
              "         1.94470921e+00, -9.10641693e-01, -1.15995550e+00],\n",
              "       [ 1.27733275e+00,  3.53549319e-04,  9.73679592e-01,\n",
              "        -1.18160563e+00,  1.24192306e+00,  1.04599497e+00,\n",
              "        -1.87310856e-01,  1.46941610e+00, -8.05202862e-01,\n",
              "        -6.14864831e-01,  1.09812675e+00, -6.75021395e-01],\n",
              "       [-7.82881361e-01,  8.09322329e-01,  9.73679592e-01,\n",
              "         1.29200821e+00,  1.24192306e+00,  1.04599497e+00,\n",
              "         1.65351249e+00,  1.46941610e+00,  1.24192306e+00,\n",
              "         1.96031637e+00,  1.09812675e+00,  1.41604198e+00],\n",
              "       [-7.82881361e-01,  1.25874943e+00, -1.02703190e+00,\n",
              "         1.92624279e-01, -8.05202862e-01,  1.04599497e+00,\n",
              "        -3.28912652e-01,  1.46941610e+00, -8.05202862e-01,\n",
              "         1.64817320e+00, -9.10641693e-01,  5.40993863e-02],\n",
              "       [-7.82881361e-01, -1.34792775e+00,  9.73679592e-01,\n",
              "        -3.57067684e-01,  1.24192306e+00, -6.59431613e-01,\n",
              "        -1.74493061e+00, -4.47213595e-01, -8.05202862e-01,\n",
              "         9.42152153e-03,  1.09812675e+00, -1.17543212e+00],\n",
              "       [-7.82881361e-01,  5.39666069e-01,  9.73679592e-01,\n",
              "         6.50700916e-01,  1.24192306e+00,  1.04599497e+00,\n",
              "        -4.57090598e-02,  1.46941610e+00,  1.24192306e+00,\n",
              "        -1.46650067e-01, -9.10641693e-01,  1.00161248e+00],\n",
              "       [-7.82881361e-01, -1.02434024e+00, -1.02703190e+00,\n",
              "        -1.36483628e+00, -8.05202862e-01, -6.59431613e-01,\n",
              "        -1.24932433e+00, -4.47213595e-01, -8.05202862e-01,\n",
              "        -1.11195284e+00,  1.09812675e+00,  8.16133781e-02],\n",
              "       [-7.82881361e-01, -8.08615231e-01, -1.02703190e+00,\n",
              "        -4.48683011e-01, -8.05202862e-01, -6.59431613e-01,\n",
              "        -7.53718041e-01, -4.47213595e-01, -8.05202862e-01,\n",
              "        -1.08307959e+00,  1.09812675e+00, -1.42821692e+00],\n",
              "       [-7.82881361e-01, -8.08615231e-01,  9.73679592e-01,\n",
              "        -3.57067684e-01,  1.24192306e+00, -6.59431613e-01,\n",
              "        -3.28912652e-01, -4.47213595e-01, -8.05202862e-01,\n",
              "        -1.40458707e+00, -9.10641693e-01, -1.25109560e+00],\n",
              "       [ 1.27733275e+00,  3.14952519e-01,  9.73679592e-01,\n",
              "        -3.11260020e-01, -8.05202862e-01, -6.59431613e-01,\n",
              "        -7.53718041e-01, -4.47213595e-01, -8.05202862e-01,\n",
              "         1.71918577e+00, -9.10641693e-01,  1.16669643e+00],\n",
              "       [-7.82881361e-01, -1.79417291e-01,  9.73679592e-01,\n",
              "        -8.22217024e-02,  1.24192306e+00, -6.59431613e-01,\n",
              "         1.22870711e+00, -4.47213595e-01, -8.05202862e-01,\n",
              "         8.67815256e-01, -9.10641693e-01, -5.80442049e-01],\n",
              "       [ 1.27733275e+00,  5.39666069e-01, -1.02703190e+00,\n",
              "        -7.23528993e-01, -8.05202862e-01,  1.04599497e+00,\n",
              "        -4.57090598e-02, -4.47213595e-01, -8.05202862e-01,\n",
              "        -1.41863351e+00,  1.09812675e+00, -9.26086570e-01],\n",
              "       [ 1.27733275e+00,  8.99207749e-01, -1.02703190e+00,\n",
              "         6.50700916e-01, -8.05202862e-01, -6.59431613e-01,\n",
              "         2.07831788e+00, -4.47213595e-01,  1.24192306e+00,\n",
              "         1.33603002e+00, -9.10641693e-01,  1.28191127e+00],\n",
              "       [-7.82881361e-01,  1.80124389e-01, -1.02703190e+00,\n",
              "        -5.40298339e-01, -8.05202862e-01, -6.59431613e-01,\n",
              "        -1.87310856e-01, -4.47213595e-01, -8.05202862e-01,\n",
              "         1.22287812e+00, -9.10641693e-01, -1.62253449e+00],\n",
              "       [-7.82881361e-01,  2.70009809e-01,  9.73679592e-01,\n",
              "        -2.65452357e-01, -8.05202862e-01,  1.04599497e+00,\n",
              "         5.20698125e-01,  1.46941610e+00,  1.24192306e+00,\n",
              "        -1.31718698e+00, -9.10641693e-01, -4.21995849e-02],\n",
              "       [ 1.27733275e+00, -3.59188131e-01,  9.73679592e-01,\n",
              "         9.39362489e-03,  1.24192306e+00, -6.59431613e-01,\n",
              "        -3.28912652e-01, -4.47213595e-01, -8.05202862e-01,\n",
              "        -3.02721655e-01,  1.09812675e+00,  3.15482308e-01],\n",
              "       [-7.82881361e-01,  3.53549319e-04, -1.02703190e+00,\n",
              "        -2.65452357e-01, -8.05202862e-01,  1.04599497e+00,\n",
              "        -3.28912652e-01,  1.46941610e+00, -8.05202862e-01,\n",
              "        -9.27008007e-01, -9.10641693e-01, -6.45547032e-02],\n",
              "       [ 1.27733275e+00,  1.80124389e-01,  9.73679592e-01,\n",
              "         1.10877755e+00,  1.24192306e+00, -6.59431613e-01,\n",
              "         8.03901717e-01, -4.47213595e-01, -8.05202862e-01,\n",
              "        -6.86142725e-02,  1.09812675e+00,  8.50526270e-02],\n",
              "       [-7.82881361e-01, -2.15371459e-01,  9.73679592e-01,\n",
              "         1.64289491e+00, -8.05202862e-01, -6.59431613e-01,\n",
              "         7.64253214e-01, -4.47213595e-01, -8.05202862e-01,\n",
              "         1.10192264e+00, -9.10641693e-01, -4.29115094e-01],\n",
              "       [ 1.27733275e+00, -4.45891607e-02,  9.73679592e-01,\n",
              "         8.26858867e-02,  1.24192306e+00, -2.36485820e+00,\n",
              "         4.21576867e-01, -4.47213595e-01,  1.24192306e+00,\n",
              "         6.64922191e-01, -9.10641693e-01,  1.50546245e+00],\n",
              "       [-7.82881361e-01, -6.28844391e-01, -1.02703190e+00,\n",
              "         1.01008952e-01, -8.05202862e-01, -2.36485820e+00,\n",
              "         5.20698125e-01, -4.47213595e-01,  1.24192306e+00,\n",
              "        -1.66990877e+00, -9.10641693e-01,  2.69028372e+00],\n",
              "       [ 1.27733275e+00,  1.75311924e+00, -1.02703190e+00,\n",
              "        -1.55513964e-01, -8.05202862e-01,  1.04599497e+00,\n",
              "         1.52533455e-01,  1.46941610e+00, -8.05202862e-01,\n",
              "        -1.00504380e+00, -9.10641693e-01, -4.39432841e-01],\n",
              "       [-7.82881361e-01, -6.32439807e-01, -1.02703190e+00,\n",
              "        -2.17471578e+00, -8.05202862e-01,  1.04599497e+00,\n",
              "        -7.16901574e-01,  1.46941610e+00, -8.05202862e-01,\n",
              "        -1.35776559e+00,  1.09812675e+00,  5.56229736e-01],\n",
              "       [-7.82881361e-01, -4.49073551e-01,  9.73679592e-01,\n",
              "        -5.10065281e-01, -8.05202862e-01,  1.04599497e+00,\n",
              "        -2.99176275e-01,  1.46941610e+00, -8.05202862e-01,\n",
              "        -6.92900625e-01,  1.09812675e+00, -3.82685233e-01],\n",
              "       [-7.82881361e-01, -4.49073551e-01, -1.02703190e+00,\n",
              "        -1.36483628e+00, -8.05202862e-01,  1.04599497e+00,\n",
              "        -2.02813421e+00, -2.36384329e+00, -8.05202862e-01,\n",
              "        -2.68385905e-01,  1.09812675e+00,  9.02115005e-02],\n",
              "       [-7.82881361e-01,  2.34055641e-01,  9.73679592e-01,\n",
              "         2.29270410e-01,  1.24192306e+00, -6.59431613e-01,\n",
              "         1.69599303e+00, -4.47213595e-01,  1.24192306e+00,\n",
              "        -9.27008007e-01, -9.10641693e-01,  2.50136578e-01],\n",
              "       [-7.82881361e-01, -4.49073551e-01,  9.73679592e-01,\n",
              "         1.01008952e-01,  1.24192306e+00, -6.59431613e-01,\n",
              "        -1.17852343e+00, -4.47213595e-01, -8.05202862e-01,\n",
              "         3.99600492e-01, -9.10641693e-01, -1.88391741e+00],\n",
              "       [-7.82881361e-01,  3.53549319e-04, -1.02703190e+00,\n",
              "         2.29977681e+00, -8.05202862e-01, -6.59431613e-01,\n",
              "        -1.17852343e+00,  1.46941610e+00, -8.05202862e-01,\n",
              "        -1.31718698e+00,  1.09812675e+00, -5.92479420e-01],\n",
              "       [-7.82881361e-01, -1.34792775e+00,  9.73679592e-01,\n",
              "        -1.54806694e+00, -8.05202862e-01, -6.59431613e-01,\n",
              "        -1.17852343e+00, -4.47213595e-01, -8.05202862e-01,\n",
              "        -7.70936419e-01,  1.09812675e+00, -2.84666637e-01],\n",
              "       [ 1.27733275e+00,  8.99207749e-01,  9.73679592e-01,\n",
              "         1.84170017e+00,  1.24192306e+00, -2.36485820e+00,\n",
              "        -1.46172702e+00, -2.36384329e+00, -8.05202862e-01,\n",
              "        -1.16111539e+00, -9.10641693e-01,  3.15482308e-01],\n",
              "       [-7.82881361e-01, -4.49073551e-01,  9.73679592e-01,\n",
              "        -8.22217024e-02, -8.05202862e-01, -6.59431613e-01,\n",
              "        -8.95319837e-01, -4.47213595e-01, -8.05202862e-01,\n",
              "         9.45851050e-01, -9.10641693e-01,  3.27519679e-01],\n",
              "       [-7.82881361e-01,  8.77635249e-01, -1.02703190e+00,\n",
              "         9.71354561e-01, -8.05202862e-01, -6.59431613e-01,\n",
              "         1.66693634e-01, -4.47213595e-01,  1.24192306e+00,\n",
              "         1.14769843e-01, -9.10641693e-01,  3.27519679e-01],\n",
              "       [-7.82881361e-01, -3.59188131e-01,  9.73679592e-01,\n",
              "         2.77166903e-02,  1.24192306e+00, -6.59431613e-01,\n",
              "        -1.02349778e-01, -4.47213595e-01,  1.24192306e+00,\n",
              "        -9.27008007e-01, -9.10641693e-01,  5.06601373e-02],\n",
              "       [ 1.27733275e+00,  3.53549319e-04,  9.73679592e-01,\n",
              "         3.75854934e-01,  1.24192306e+00, -6.59431613e-01,\n",
              "        -1.87310856e-01, -2.36384329e+00, -8.05202862e-01,\n",
              "         1.25799423e+00,  1.09812675e+00,  1.67054640e+00],\n",
              "       [-7.82881361e-01, -8.95318707e-02,  9.73679592e-01,\n",
              "         9.25546897e-01,  1.24192306e+00, -6.59431613e-01,\n",
              "         8.03901717e-01, -4.47213595e-01,  1.24192306e+00,\n",
              "         9.45851050e-01,  1.09812675e+00, -5.66685053e-01],\n",
              "       [-7.82881361e-01, -3.59188131e-01,  9.73679592e-01,\n",
              "        -5.40298339e-01,  1.24192306e+00, -6.59431613e-01,\n",
              "        -1.32012523e+00, -4.47213595e-01,  1.24192306e+00,\n",
              "         4.77636286e-01, -9.10641693e-01, -1.32331983e+00],\n",
              "       [-7.82881361e-01,  2.70009809e-01,  9.73679592e-01,\n",
              "        -2.65452357e-01,  1.24192306e+00,  1.04599497e+00,\n",
              "        -4.57090598e-02,  1.46941610e+00, -8.05202862e-01,\n",
              "        -8.27122190e-01,  1.09812675e+00, -3.67208613e-01],\n",
              "       [-7.82881361e-01, -3.59188131e-01, -1.02703190e+00,\n",
              "         1.01008952e-01, -8.05202862e-01, -6.59431613e-01,\n",
              "        -4.57090598e-02, -4.47213595e-01, -8.05202862e-01,\n",
              "        -3.02721655e-01,  1.09812675e+00, -7.83357738e-01],\n",
              "       [-7.82881361e-01,  6.29551489e-01,  9.73679592e-01,\n",
              "        -3.57067684e-01, -8.05202862e-01,  1.04599497e+00,\n",
              "         2.37494532e-01, -4.47213595e-01, -8.05202862e-01,\n",
              "         1.65493110e-01, -9.10641693e-01, -7.31769003e-01],\n",
              "       [ 1.27733275e+00,  9.89093169e-01,  9.73679592e-01,\n",
              "         1.01716222e+00, -8.05202862e-01, -6.59431613e-01,\n",
              "         1.93671609e+00, -4.47213595e-01, -8.05202862e-01,\n",
              "        -9.27008007e-01, -9.10641693e-01,  7.69463172e-01],\n",
              "       [-7.82881361e-01,  9.59430981e-01, -1.02703190e+00,\n",
              "        -9.22993884e-02, -8.05202862e-01, -6.59431613e-01,\n",
              "         6.15571328e-01, -4.47213595e-01, -8.05202862e-01,\n",
              "         1.33603002e+00, -9.10641693e-01, -3.19059127e-01],\n",
              "       [-7.82881361e-01, -4.49073551e-01,  9.73679592e-01,\n",
              "        -7.23528993e-01, -8.05202862e-01,  1.04599497e+00,\n",
              "        -1.88653241e+00, -4.47213595e-01, -8.05202862e-01,\n",
              "         1.33603002e+00,  1.09812675e+00, -3.48292743e-01],\n",
              "       [-7.82881361e-01, -1.25804233e+00,  9.73679592e-01,\n",
              "        -2.65452357e-01, -8.05202862e-01,  1.04599497e+00,\n",
              "        -8.95319837e-01, -4.47213595e-01,  1.24192306e+00,\n",
              "        -1.46650067e-01, -9.10641693e-01, -1.55546913e+00],\n",
              "       [-7.82881361e-01,  1.52840569e+00, -1.02703190e+00,\n",
              "         2.29061527e+00, -8.05202862e-01,  1.04599497e+00,\n",
              "        -2.58111754e-01,  1.46941610e+00, -8.05202862e-01,\n",
              "         1.10504407e+00, -9.10641693e-01, -4.85862702e-01],\n",
              "       [-7.82881361e-01, -1.16815691e+00,  9.73679592e-01,\n",
              "         1.47523886e+00, -8.05202862e-01, -6.59431613e-01,\n",
              "        -4.70514448e-01,  1.46941610e+00, -8.05202862e-01,\n",
              "        -1.70736595e+00, -9.10641693e-01, -4.77264580e-01],\n",
              "       [ 1.27733275e+00, -8.95318707e-02,  9.73679592e-01,\n",
              "        -3.57067684e-01,  1.24192306e+00, -6.59431613e-01,\n",
              "         9.45503513e-01, -4.47213595e-01, -8.05202862e-01,\n",
              "        -1.08307959e+00,  1.09812675e+00,  3.63631794e-01],\n",
              "       [ 1.27733275e+00, -3.23233963e-01, -1.02703190e+00,\n",
              "         1.19332018e-01, -8.05202862e-01, -6.59431613e-01,\n",
              "        -8.95319837e-01, -4.47213595e-01, -8.05202862e-01,\n",
              "        -1.07839745e+00,  1.09812675e+00,  1.20968704e+00],\n",
              "       [ 1.27733275e+00,  1.61829111e+00, -1.02703190e+00,\n",
              "         2.20816148e+00, -8.05202862e-01, -6.59431613e-01,\n",
              "         2.21991968e+00, -4.47213595e-01, -8.05202862e-01,\n",
              "         1.57013740e+00, -9.10641693e-01,  9.94733980e-01],\n",
              "       [ 1.27733275e+00, -2.15689653e+00,  9.73679592e-01,\n",
              "        -5.40298339e-01, -8.05202862e-01,  1.04599497e+00,\n",
              "        -1.87310856e-01, -4.47213595e-01, -8.05202862e-01,\n",
              "         1.62164103e+00,  1.09812675e+00,  1.16005868e-01],\n",
              "       [-7.82881361e-01,  1.25155860e+00, -1.02703190e+00,\n",
              "         1.15458522e+00, -8.05202862e-01, -6.59431613e-01,\n",
              "         9.58927363e-02, -4.47213595e-01, -8.05202862e-01,\n",
              "        -2.47316241e-01, -9.10641693e-01, -2.15881658e-01],\n",
              "       [ 1.27733275e+00,  1.88794737e+00,  9.73679592e-01,\n",
              "         5.59085588e-01,  1.24192306e+00,  1.04599497e+00,\n",
              "         1.65351249e+00, -2.36384329e+00, -8.05202862e-01,\n",
              "         7.89779462e-01,  1.09812675e+00,  1.57940630e+00],\n",
              "       [-7.82881361e-01, -5.38958971e-01, -1.02703190e+00,\n",
              "        -3.57067684e-01, -8.05202862e-01, -6.59431613e-01,\n",
              "        -1.87310856e-01, -4.47213595e-01, -8.05202862e-01,\n",
              "        -7.70936419e-01, -9.10641693e-01, -9.34684693e-01],\n",
              "       [-7.82881361e-01, -1.79417291e-01,  9.73679592e-01,\n",
              "         1.92624279e-01, -8.05202862e-01,  1.04599497e+00,\n",
              "         3.79096329e-01, -4.47213595e-01, -8.05202862e-01,\n",
              "        -1.41863351e+00,  1.09812675e+00, -1.24421710e+00],\n",
              "       [ 1.27733275e+00,  4.49780649e-01, -1.02703190e+00,\n",
              "        -5.40298339e-01, -8.05202862e-01,  1.04599497e+00,\n",
              "         3.79096329e-01, -4.47213595e-01, -8.05202862e-01,\n",
              "        -1.27816908e+00,  1.09812675e+00, -6.61264399e-01],\n",
              "       [-7.82881361e-01,  1.08216053e-01,  9.73679592e-01,\n",
              "         6.32377850e-01,  1.24192306e+00, -6.59431613e-01,\n",
              "         3.92520179e-02, -4.47213595e-01,  1.24192306e+00,\n",
              "         1.88228058e+00, -9.10641693e-01,  1.47966808e+00],\n",
              "       [-7.82881361e-01,  8.99207749e-01, -1.02703190e+00,\n",
              "         8.33931570e-01, -8.05202862e-01,  1.04599497e+00,\n",
              "         9.45503513e-01,  1.46941610e+00, -8.05202862e-01,\n",
              "         6.33707874e-01, -9.10641693e-01,  8.26210780e-01],\n",
              "       [-7.82881361e-01, -4.49073551e-01,  9.73679592e-01,\n",
              "        -1.73129759e+00,  1.24192306e+00, -6.59431613e-01,\n",
              "        -2.31133780e+00, -4.47213595e-01, -8.05202862e-01,\n",
              "         3.21564698e-01,  1.09812675e+00, -1.25281522e+00]])"
            ]
          },
          "metadata": {},
          "execution_count": 177
        }
      ]
    },
    {
      "cell_type": "markdown",
      "source": [
        "#12.**Importing the models**"
      ],
      "metadata": {
        "id": "MO8ldk0wjgcF"
      }
    },
    {
      "cell_type": "code",
      "source": [
        "from sklearn.linear_model import LinearRegression\n",
        "from sklearn.neighbors import KNeighborsClassifier\n",
        "from sklearn.svm import SVC\n",
        "from sklearn.ensemble import RandomForestClassifier\n",
        "from sklearn.tree import DecisionTreeClassifier\n",
        "from sklearn.naive_bayes import GaussianNB"
      ],
      "metadata": {
        "id": "n4X2E1WrhUmB"
      },
      "execution_count": null,
      "outputs": []
    },
    {
      "cell_type": "markdown",
      "source": [
        "#13.**Model Training and prediction**"
      ],
      "metadata": {
        "id": "8ZyrjwCdnSIy"
      }
    },
    {
      "cell_type": "code",
      "source": [
        "reg=LinearRegression()\n",
        "reg.fit(X_train_new,y_train)\n",
        "y_pred1=reg.predict(X_test_new)"
      ],
      "metadata": {
        "id": "qmxif6WJhUjO"
      },
      "execution_count": null,
      "outputs": []
    },
    {
      "cell_type": "code",
      "source": [
        "knn=KNeighborsClassifier(n_neighbors=5)\n",
        "knn.fit(X_train_new,y_train)\n",
        "y_pred2=knn.predict(X_test_new)"
      ],
      "metadata": {
        "id": "6hIvbMGVhUf6"
      },
      "execution_count": null,
      "outputs": []
    },
    {
      "cell_type": "code",
      "source": [
        "clf=SVC()\n",
        "clf.fit(X_train_new,y_train)\n",
        "y_pred3=clf.predict(X_test_new)"
      ],
      "metadata": {
        "id": "TyxyziGFhUa8"
      },
      "execution_count": null,
      "outputs": []
    },
    {
      "cell_type": "code",
      "source": [
        "rf=RandomForestClassifier()\n",
        "rf.fit(X_train_new,y_train)\n",
        "y_pred4=rf.predict(X_test_new)"
      ],
      "metadata": {
        "id": "t0No8kWNLGvi"
      },
      "execution_count": null,
      "outputs": []
    },
    {
      "cell_type": "code",
      "source": [
        "nb=GaussianNB()\n",
        "nb.fit(X_train_new,y_train)\n",
        "y_pred5=nb.predict(X_test_new)"
      ],
      "metadata": {
        "id": "XAhMPMDGLGqg"
      },
      "execution_count": null,
      "outputs": []
    },
    {
      "cell_type": "code",
      "source": [
        "dt=DecisionTreeClassifier()\n",
        "dt.fit(X_train_new,y_train)\n",
        "y_pred6=dt.predict(X_test_new)"
      ],
      "metadata": {
        "id": "3ZOffBHfTj1c"
      },
      "execution_count": null,
      "outputs": []
    },
    {
      "cell_type": "markdown",
      "source": [
        "#14.**Evaluating the Algorithms**"
      ],
      "metadata": {
        "id": "Sasl1J5eMX4a"
      }
    },
    {
      "cell_type": "code",
      "source": [
        "from sklearn.metrics import accuracy_score\n",
        "from sklearn.metrics import r2_score"
      ],
      "metadata": {
        "id": "hzBb9W8ALGns"
      },
      "execution_count": null,
      "outputs": []
    },
    {
      "cell_type": "markdown",
      "source": [
        "**arranging all the accuracy scores of each models**"
      ],
      "metadata": {
        "id": "QhfKNybmNMVc"
      }
    },
    {
      "cell_type": "code",
      "source": [
        "score1=r2_score(y_test,y_pred1)\n",
        "score2=accuracy_score(y_test,y_pred2)\n",
        "score3=accuracy_score(y_test,y_pred3)\n",
        "score4=accuracy_score(y_test,y_pred4)\n",
        "score5=accuracy_score(y_test,y_pred5)\n",
        "score6=accuracy_score(y_test,y_pred6)\n",
        "print(score1,score2,score3,score4,score5,score6)"
      ],
      "metadata": {
        "colab": {
          "base_uri": "https://localhost:8080/"
        },
        "id": "pW8ICSmpLGlH",
        "outputId": "a8d175a4-3b9f-4140-b0b6-adbd387cd9d0"
      },
      "execution_count": null,
      "outputs": [
        {
          "output_type": "stream",
          "name": "stdout",
          "text": [
            "0.5509197394147678 0.8307692307692308 0.8615384615384616 0.8615384615384616 0.8461538461538461 0.8153846153846154\n"
          ]
        }
      ]
    },
    {
      "cell_type": "markdown",
      "source": [
        "**creating a pandas dataframe for visualizing the score**"
      ],
      "metadata": {
        "id": "1gz8g3Rp2YE1"
      }
    },
    {
      "cell_type": "code",
      "source": [
        "final_data=pd.DataFrame({'Models':['LR','KNN','SVC','RF','NB','DT'],\n",
        "                             'ACC':[score1*100,score2*100,score3*100,score4*100,score5*100,score6*100]}) "
      ],
      "metadata": {
        "id": "Fjs8d708LGiQ"
      },
      "execution_count": null,
      "outputs": []
    },
    {
      "cell_type": "code",
      "source": [
        "final_data"
      ],
      "metadata": {
        "colab": {
          "base_uri": "https://localhost:8080/",
          "height": 237
        },
        "id": "xUAeJy183uXV",
        "outputId": "ae77317d-789f-4c4e-ab8b-5216e5cf9b2b"
      },
      "execution_count": null,
      "outputs": [
        {
          "output_type": "execute_result",
          "data": {
            "text/plain": [
              "  Models        ACC\n",
              "0     LR  55.091974\n",
              "1    KNN  83.076923\n",
              "2    SVC  86.153846\n",
              "3     RF  86.153846\n",
              "4     NB  84.615385\n",
              "5     DT  81.538462"
            ],
            "text/html": [
              "\n",
              "  <div id=\"df-0791302f-8be4-4be8-953a-21cdf584c17b\">\n",
              "    <div class=\"colab-df-container\">\n",
              "      <div>\n",
              "<style scoped>\n",
              "    .dataframe tbody tr th:only-of-type {\n",
              "        vertical-align: middle;\n",
              "    }\n",
              "\n",
              "    .dataframe tbody tr th {\n",
              "        vertical-align: top;\n",
              "    }\n",
              "\n",
              "    .dataframe thead th {\n",
              "        text-align: right;\n",
              "    }\n",
              "</style>\n",
              "<table border=\"1\" class=\"dataframe\">\n",
              "  <thead>\n",
              "    <tr style=\"text-align: right;\">\n",
              "      <th></th>\n",
              "      <th>Models</th>\n",
              "      <th>ACC</th>\n",
              "    </tr>\n",
              "  </thead>\n",
              "  <tbody>\n",
              "    <tr>\n",
              "      <th>0</th>\n",
              "      <td>LR</td>\n",
              "      <td>55.091974</td>\n",
              "    </tr>\n",
              "    <tr>\n",
              "      <th>1</th>\n",
              "      <td>KNN</td>\n",
              "      <td>83.076923</td>\n",
              "    </tr>\n",
              "    <tr>\n",
              "      <th>2</th>\n",
              "      <td>SVC</td>\n",
              "      <td>86.153846</td>\n",
              "    </tr>\n",
              "    <tr>\n",
              "      <th>3</th>\n",
              "      <td>RF</td>\n",
              "      <td>86.153846</td>\n",
              "    </tr>\n",
              "    <tr>\n",
              "      <th>4</th>\n",
              "      <td>NB</td>\n",
              "      <td>84.615385</td>\n",
              "    </tr>\n",
              "    <tr>\n",
              "      <th>5</th>\n",
              "      <td>DT</td>\n",
              "      <td>81.538462</td>\n",
              "    </tr>\n",
              "  </tbody>\n",
              "</table>\n",
              "</div>\n",
              "      <button class=\"colab-df-convert\" onclick=\"convertToInteractive('df-0791302f-8be4-4be8-953a-21cdf584c17b')\"\n",
              "              title=\"Convert this dataframe to an interactive table.\"\n",
              "              style=\"display:none;\">\n",
              "        \n",
              "  <svg xmlns=\"http://www.w3.org/2000/svg\" height=\"24px\"viewBox=\"0 0 24 24\"\n",
              "       width=\"24px\">\n",
              "    <path d=\"M0 0h24v24H0V0z\" fill=\"none\"/>\n",
              "    <path d=\"M18.56 5.44l.94 2.06.94-2.06 2.06-.94-2.06-.94-.94-2.06-.94 2.06-2.06.94zm-11 1L8.5 8.5l.94-2.06 2.06-.94-2.06-.94L8.5 2.5l-.94 2.06-2.06.94zm10 10l.94 2.06.94-2.06 2.06-.94-2.06-.94-.94-2.06-.94 2.06-2.06.94z\"/><path d=\"M17.41 7.96l-1.37-1.37c-.4-.4-.92-.59-1.43-.59-.52 0-1.04.2-1.43.59L10.3 9.45l-7.72 7.72c-.78.78-.78 2.05 0 2.83L4 21.41c.39.39.9.59 1.41.59.51 0 1.02-.2 1.41-.59l7.78-7.78 2.81-2.81c.8-.78.8-2.07 0-2.86zM5.41 20L4 18.59l7.72-7.72 1.47 1.35L5.41 20z\"/>\n",
              "  </svg>\n",
              "      </button>\n",
              "      \n",
              "  <style>\n",
              "    .colab-df-container {\n",
              "      display:flex;\n",
              "      flex-wrap:wrap;\n",
              "      gap: 12px;\n",
              "    }\n",
              "\n",
              "    .colab-df-convert {\n",
              "      background-color: #E8F0FE;\n",
              "      border: none;\n",
              "      border-radius: 50%;\n",
              "      cursor: pointer;\n",
              "      display: none;\n",
              "      fill: #1967D2;\n",
              "      height: 32px;\n",
              "      padding: 0 0 0 0;\n",
              "      width: 32px;\n",
              "    }\n",
              "\n",
              "    .colab-df-convert:hover {\n",
              "      background-color: #E2EBFA;\n",
              "      box-shadow: 0px 1px 2px rgba(60, 64, 67, 0.3), 0px 1px 3px 1px rgba(60, 64, 67, 0.15);\n",
              "      fill: #174EA6;\n",
              "    }\n",
              "\n",
              "    [theme=dark] .colab-df-convert {\n",
              "      background-color: #3B4455;\n",
              "      fill: #D2E3FC;\n",
              "    }\n",
              "\n",
              "    [theme=dark] .colab-df-convert:hover {\n",
              "      background-color: #434B5C;\n",
              "      box-shadow: 0px 1px 3px 1px rgba(0, 0, 0, 0.15);\n",
              "      filter: drop-shadow(0px 1px 2px rgba(0, 0, 0, 0.3));\n",
              "      fill: #FFFFFF;\n",
              "    }\n",
              "  </style>\n",
              "\n",
              "      <script>\n",
              "        const buttonEl =\n",
              "          document.querySelector('#df-0791302f-8be4-4be8-953a-21cdf584c17b button.colab-df-convert');\n",
              "        buttonEl.style.display =\n",
              "          google.colab.kernel.accessAllowed ? 'block' : 'none';\n",
              "\n",
              "        async function convertToInteractive(key) {\n",
              "          const element = document.querySelector('#df-0791302f-8be4-4be8-953a-21cdf584c17b');\n",
              "          const dataTable =\n",
              "            await google.colab.kernel.invokeFunction('convertToInteractive',\n",
              "                                                     [key], {});\n",
              "          if (!dataTable) return;\n",
              "\n",
              "          const docLinkHtml = 'Like what you see? Visit the ' +\n",
              "            '<a target=\"_blank\" href=https://colab.research.google.com/notebooks/data_table.ipynb>data table notebook</a>'\n",
              "            + ' to learn more about interactive tables.';\n",
              "          element.innerHTML = '';\n",
              "          dataTable['output_type'] = 'display_data';\n",
              "          await google.colab.output.renderOutput(dataTable, element);\n",
              "          const docLink = document.createElement('div');\n",
              "          docLink.innerHTML = docLinkHtml;\n",
              "          element.appendChild(docLink);\n",
              "        }\n",
              "      </script>\n",
              "    </div>\n",
              "  </div>\n",
              "  "
            ]
          },
          "metadata": {},
          "execution_count": 188
        }
      ]
    },
    {
      "cell_type": "markdown",
      "source": [
        "**Visualizing the scores using Seaborn**"
      ],
      "metadata": {
        "id": "1fukdnz33AWN"
      }
    },
    {
      "cell_type": "code",
      "source": [
        "sns.barplot(final_data['Models'],final_data['ACC'])"
      ],
      "metadata": {
        "id": "SgKZcSZDhUV6",
        "colab": {
          "base_uri": "https://localhost:8080/",
          "height": 297
        },
        "outputId": "d09c90ac-1407-42e4-d8ec-bdc51c6aa646"
      },
      "execution_count": null,
      "outputs": [
        {
          "output_type": "execute_result",
          "data": {
            "text/plain": [
              "<AxesSubplot:xlabel='Models', ylabel='ACC'>"
            ]
          },
          "metadata": {},
          "execution_count": 189
        },
        {
          "output_type": "display_data",
          "data": {
            "text/plain": [
              "<Figure size 432x288 with 1 Axes>"
            ],
            "image/png": "[encoded data removed]"
          },
          "metadata": {
            "needs_background": "light"
          }
        }
      ]
    },
    {
      "cell_type": "code",
      "source": [
        "df_job.corr()"
      ],
      "metadata": {
        "id": "Zr0uRtv3fqBS",
        "colab": {
          "base_uri": "https://localhost:8080/",
          "height": 457
        },
        "outputId": "44b754f0-4a13-404a-c320-52c913754d03"
      },
      "execution_count": null,
      "outputs": [
        {
          "output_type": "execute_result",
          "data": {
            "text/plain": [
              "                       gender  ssc_percentage  ssc_board  hsc_percentage  \\\n",
              "gender               1.000000        0.068969   0.019429        0.021334   \n",
              "ssc_percentage       0.068969        1.000000  -0.116194        0.511472   \n",
              "ssc_board            0.019429       -0.116194   1.000000        0.137013   \n",
              "hsc_percentage       0.021334        0.511472   0.137013        1.000000   \n",
              "hsc_board            0.065945       -0.066996   0.605883        0.019548   \n",
              "hsc_subject         -0.071827        0.236364  -0.050919       -0.164091   \n",
              "degree_percentage    0.173217        0.538404  -0.038070        0.434206   \n",
              "undergrad_degree    -0.110567        0.215745  -0.087035        0.009579   \n",
              "work_experience     -0.085153        0.175675   0.040744        0.141025   \n",
              "emp_test_percentage -0.084294        0.261993   0.018991        0.245113   \n",
              "specialisation       0.106160       -0.172536   0.051565       -0.241630   \n",
              "mba_percent          0.300531        0.388478  -0.083120        0.354823   \n",
              "status              -0.090670        0.607889  -0.037297        0.491228   \n",
              "\n",
              "                     hsc_board  hsc_subject  degree_percentage  \\\n",
              "gender                0.065945    -0.071827           0.173217   \n",
              "ssc_percentage       -0.066996     0.236364           0.538404   \n",
              "ssc_board             0.605883    -0.050919          -0.038070   \n",
              "hsc_percentage        0.019548    -0.164091           0.434206   \n",
              "hsc_board             1.000000    -0.152227          -0.067229   \n",
              "hsc_subject          -0.152227     1.000000           0.137276   \n",
              "degree_percentage    -0.067229     0.137276           1.000000   \n",
              "undergrad_degree     -0.122604     0.552266           0.180624   \n",
              "work_experience      -0.038357     0.007856           0.122648   \n",
              "emp_test_percentage  -0.039108     0.075643           0.224470   \n",
              "specialisation       -0.002232     0.172107          -0.218286   \n",
              "mba_percent          -0.090201     0.039345           0.402364   \n",
              "status               -0.016945     0.033442           0.479861   \n",
              "\n",
              "                     undergrad_degree  work_experience  emp_test_percentage  \\\n",
              "gender                      -0.110567        -0.085153            -0.084294   \n",
              "ssc_percentage               0.215745         0.175675             0.261993   \n",
              "ssc_board                   -0.087035         0.040744             0.018991   \n",
              "hsc_percentage               0.009579         0.141025             0.245113   \n",
              "hsc_board                   -0.122604        -0.038357            -0.039108   \n",
              "hsc_subject                  0.552266         0.007856             0.075643   \n",
              "degree_percentage            0.180624         0.122648             0.224470   \n",
              "undergrad_degree             1.000000         0.083505             0.005386   \n",
              "work_experience              0.083505         1.000000             0.056735   \n",
              "emp_test_percentage          0.005386         0.056735             1.000000   \n",
              "specialisation               0.014103        -0.191174            -0.236315   \n",
              "mba_percent                  0.121357         0.168811             0.218055   \n",
              "status                       0.056572         0.276060             0.127639   \n",
              "\n",
              "                     specialisation  mba_percent    status  \n",
              "gender                     0.106160     0.300531 -0.090670  \n",
              "ssc_percentage            -0.172536     0.388478  0.607889  \n",
              "ssc_board                  0.051565    -0.083120 -0.037297  \n",
              "hsc_percentage            -0.241630     0.354823  0.491228  \n",
              "hsc_board                 -0.002232    -0.090201 -0.016945  \n",
              "hsc_subject                0.172107     0.039345  0.033442  \n",
              "degree_percentage         -0.218286     0.402364  0.479861  \n",
              "undergrad_degree           0.014103     0.121357  0.056572  \n",
              "work_experience           -0.191174     0.168811  0.276060  \n",
              "emp_test_percentage       -0.236315     0.218055  0.127639  \n",
              "specialisation             1.000000    -0.105728 -0.250655  \n",
              "mba_percent               -0.105728     1.000000  0.076922  \n",
              "status                    -0.250655     0.076922  1.000000  "
            ],
            "text/html": [
              "\n",
              "  <div id=\"df-9891494c-99f1-4a5d-bc9f-1dc1f94eb06d\">\n",
              "    <div class=\"colab-df-container\">\n",
              "      <div>\n",
              "<style scoped>\n",
              "    .dataframe tbody tr th:only-of-type {\n",
              "        vertical-align: middle;\n",
              "    }\n",
              "\n",
              "    .dataframe tbody tr th {\n",
              "        vertical-align: top;\n",
              "    }\n",
              "\n",
              "    .dataframe thead th {\n",
              "        text-align: right;\n",
              "    }\n",
              "</style>\n",
              "<table border=\"1\" class=\"dataframe\">\n",
              "  <thead>\n",
              "    <tr style=\"text-align: right;\">\n",
              "      <th></th>\n",
              "      <th>gender</th>\n",
              "      <th>ssc_percentage</th>\n",
              "      <th>ssc_board</th>\n",
              "      <th>hsc_percentage</th>\n",
              "      <th>hsc_board</th>\n",
              "      <th>hsc_subject</th>\n",
              "      <th>degree_percentage</th>\n",
              "      <th>undergrad_degree</th>\n",
              "      <th>work_experience</th>\n",
              "      <th>emp_test_percentage</th>\n",
              "      <th>specialisation</th>\n",
              "      <th>mba_percent</th>\n",
              "      <th>status</th>\n",
              "    </tr>\n",
              "  </thead>\n",
              "  <tbody>\n",
              "    <tr>\n",
              "      <th>gender</th>\n",
              "      <td>1.000000</td>\n",
              "      <td>0.068969</td>\n",
              "      <td>0.019429</td>\n",
              "      <td>0.021334</td>\n",
              "      <td>0.065945</td>\n",
              "      <td>-0.071827</td>\n",
              "      <td>0.173217</td>\n",
              "      <td>-0.110567</td>\n",
              "      <td>-0.085153</td>\n",
              "      <td>-0.084294</td>\n",
              "      <td>0.106160</td>\n",
              "      <td>0.300531</td>\n",
              "      <td>-0.090670</td>\n",
              "    </tr>\n",
              "    <tr>\n",
              "      <th>ssc_percentage</th>\n",
              "      <td>0.068969</td>\n",
              "      <td>1.000000</td>\n",
              "      <td>-0.116194</td>\n",
              "      <td>0.511472</td>\n",
              "      <td>-0.066996</td>\n",
              "      <td>0.236364</td>\n",
              "      <td>0.538404</td>\n",
              "      <td>0.215745</td>\n",
              "      <td>0.175675</td>\n",
              "      <td>0.261993</td>\n",
              "      <td>-0.172536</td>\n",
              "      <td>0.388478</td>\n",
              "      <td>0.607889</td>\n",
              "    </tr>\n",
              "    <tr>\n",
              "      <th>ssc_board</th>\n",
              "      <td>0.019429</td>\n",
              "      <td>-0.116194</td>\n",
              "      <td>1.000000</td>\n",
              "      <td>0.137013</td>\n",
              "      <td>0.605883</td>\n",
              "      <td>-0.050919</td>\n",
              "      <td>-0.038070</td>\n",
              "      <td>-0.087035</td>\n",
              "      <td>0.040744</td>\n",
              "      <td>0.018991</td>\n",
              "      <td>0.051565</td>\n",
              "      <td>-0.083120</td>\n",
              "      <td>-0.037297</td>\n",
              "    </tr>\n",
              "    <tr>\n",
              "      <th>hsc_percentage</th>\n",
              "      <td>0.021334</td>\n",
              "      <td>0.511472</td>\n",
              "      <td>0.137013</td>\n",
              "      <td>1.000000</td>\n",
              "      <td>0.019548</td>\n",
              "      <td>-0.164091</td>\n",
              "      <td>0.434206</td>\n",
              "      <td>0.009579</td>\n",
              "      <td>0.141025</td>\n",
              "      <td>0.245113</td>\n",
              "      <td>-0.241630</td>\n",
              "      <td>0.354823</td>\n",
              "      <td>0.491228</td>\n",
              "    </tr>\n",
              "    <tr>\n",
              "      <th>hsc_board</th>\n",
              "      <td>0.065945</td>\n",
              "      <td>-0.066996</td>\n",
              "      <td>0.605883</td>\n",
              "      <td>0.019548</td>\n",
              "      <td>1.000000</td>\n",
              "      <td>-0.152227</td>\n",
              "      <td>-0.067229</td>\n",
              "      <td>-0.122604</td>\n",
              "      <td>-0.038357</td>\n",
              "      <td>-0.039108</td>\n",
              "      <td>-0.002232</td>\n",
              "      <td>-0.090201</td>\n",
              "      <td>-0.016945</td>\n",
              "    </tr>\n",
              "    <tr>\n",
              "      <th>hsc_subject</th>\n",
              "      <td>-0.071827</td>\n",
              "      <td>0.236364</td>\n",
              "      <td>-0.050919</td>\n",
              "      <td>-0.164091</td>\n",
              "      <td>-0.152227</td>\n",
              "      <td>1.000000</td>\n",
              "      <td>0.137276</td>\n",
              "      <td>0.552266</td>\n",
              "      <td>0.007856</td>\n",
              "      <td>0.075643</td>\n",
              "      <td>0.172107</td>\n",
              "      <td>0.039345</td>\n",
              "      <td>0.033442</td>\n",
              "    </tr>\n",
              "    <tr>\n",
              "      <th>degree_percentage</th>\n",
              "      <td>0.173217</td>\n",
              "      <td>0.538404</td>\n",
              "      <td>-0.038070</td>\n",
              "      <td>0.434206</td>\n",
              "      <td>-0.067229</td>\n",
              "      <td>0.137276</td>\n",
              "      <td>1.000000</td>\n",
              "      <td>0.180624</td>\n",
              "      <td>0.122648</td>\n",
              "      <td>0.224470</td>\n",
              "      <td>-0.218286</td>\n",
              "      <td>0.402364</td>\n",
              "      <td>0.479861</td>\n",
              "    </tr>\n",
              "    <tr>\n",
              "      <th>undergrad_degree</th>\n",
              "      <td>-0.110567</td>\n",
              "      <td>0.215745</td>\n",
              "      <td>-0.087035</td>\n",
              "      <td>0.009579</td>\n",
              "      <td>-0.122604</td>\n",
              "      <td>0.552266</td>\n",
              "      <td>0.180624</td>\n",
              "      <td>1.000000</td>\n",
              "      <td>0.083505</td>\n",
              "      <td>0.005386</td>\n",
              "      <td>0.014103</td>\n",
              "      <td>0.121357</td>\n",
              "      <td>0.056572</td>\n",
              "    </tr>\n",
              "    <tr>\n",
              "      <th>work_experience</th>\n",
              "      <td>-0.085153</td>\n",
              "      <td>0.175675</td>\n",
              "      <td>0.040744</td>\n",
              "      <td>0.141025</td>\n",
              "      <td>-0.038357</td>\n",
              "      <td>0.007856</td>\n",
              "      <td>0.122648</td>\n",
              "      <td>0.083505</td>\n",
              "      <td>1.000000</td>\n",
              "      <td>0.056735</td>\n",
              "      <td>-0.191174</td>\n",
              "      <td>0.168811</td>\n",
              "      <td>0.276060</td>\n",
              "    </tr>\n",
              "    <tr>\n",
              "      <th>emp_test_percentage</th>\n",
              "      <td>-0.084294</td>\n",
              "      <td>0.261993</td>\n",
              "      <td>0.018991</td>\n",
              "      <td>0.245113</td>\n",
              "      <td>-0.039108</td>\n",
              "      <td>0.075643</td>\n",
              "      <td>0.224470</td>\n",
              "      <td>0.005386</td>\n",
              "      <td>0.056735</td>\n",
              "      <td>1.000000</td>\n",
              "      <td>-0.236315</td>\n",
              "      <td>0.218055</td>\n",
              "      <td>0.127639</td>\n",
              "    </tr>\n",
              "    <tr>\n",
              "      <th>specialisation</th>\n",
              "      <td>0.106160</td>\n",
              "      <td>-0.172536</td>\n",
              "      <td>0.051565</td>\n",
              "      <td>-0.241630</td>\n",
              "      <td>-0.002232</td>\n",
              "      <td>0.172107</td>\n",
              "      <td>-0.218286</td>\n",
              "      <td>0.014103</td>\n",
              "      <td>-0.191174</td>\n",
              "      <td>-0.236315</td>\n",
              "      <td>1.000000</td>\n",
              "      <td>-0.105728</td>\n",
              "      <td>-0.250655</td>\n",
              "    </tr>\n",
              "    <tr>\n",
              "      <th>mba_percent</th>\n",
              "      <td>0.300531</td>\n",
              "      <td>0.388478</td>\n",
              "      <td>-0.083120</td>\n",
              "      <td>0.354823</td>\n",
              "      <td>-0.090201</td>\n",
              "      <td>0.039345</td>\n",
              "      <td>0.402364</td>\n",
              "      <td>0.121357</td>\n",
              "      <td>0.168811</td>\n",
              "      <td>0.218055</td>\n",
              "      <td>-0.105728</td>\n",
              "      <td>1.000000</td>\n",
              "      <td>0.076922</td>\n",
              "    </tr>\n",
              "    <tr>\n",
              "      <th>status</th>\n",
              "      <td>-0.090670</td>\n",
              "      <td>0.607889</td>\n",
              "      <td>-0.037297</td>\n",
              "      <td>0.491228</td>\n",
              "      <td>-0.016945</td>\n",
              "      <td>0.033442</td>\n",
              "      <td>0.479861</td>\n",
              "      <td>0.056572</td>\n",
              "      <td>0.276060</td>\n",
              "      <td>0.127639</td>\n",
              "      <td>-0.250655</td>\n",
              "      <td>0.076922</td>\n",
              "      <td>1.000000</td>\n",
              "    </tr>\n",
              "  </tbody>\n",
              "</table>\n",
              "</div>\n",
              "      <button class=\"colab-df-convert\" onclick=\"convertToInteractive('df-9891494c-99f1-4a5d-bc9f-1dc1f94eb06d')\"\n",
              "              title=\"Convert this dataframe to an interactive table.\"\n",
              "              style=\"display:none;\">\n",
              "        \n",
              "  <svg xmlns=\"http://www.w3.org/2000/svg\" height=\"24px\"viewBox=\"0 0 24 24\"\n",
              "       width=\"24px\">\n",
              "    <path d=\"M0 0h24v24H0V0z\" fill=\"none\"/>\n",
              "    <path d=\"M18.56 5.44l.94 2.06.94-2.06 2.06-.94-2.06-.94-.94-2.06-.94 2.06-2.06.94zm-11 1L8.5 8.5l.94-2.06 2.06-.94-2.06-.94L8.5 2.5l-.94 2.06-2.06.94zm10 10l.94 2.06.94-2.06 2.06-.94-2.06-.94-.94-2.06-.94 2.06-2.06.94z\"/><path d=\"M17.41 7.96l-1.37-1.37c-.4-.4-.92-.59-1.43-.59-.52 0-1.04.2-1.43.59L10.3 9.45l-7.72 7.72c-.78.78-.78 2.05 0 2.83L4 21.41c.39.39.9.59 1.41.59.51 0 1.02-.2 1.41-.59l7.78-7.78 2.81-2.81c.8-.78.8-2.07 0-2.86zM5.41 20L4 18.59l7.72-7.72 1.47 1.35L5.41 20z\"/>\n",
              "  </svg>\n",
              "      </button>\n",
              "      \n",
              "  <style>\n",
              "    .colab-df-container {\n",
              "      display:flex;\n",
              "      flex-wrap:wrap;\n",
              "      gap: 12px;\n",
              "    }\n",
              "\n",
              "    .colab-df-convert {\n",
              "      background-color: #E8F0FE;\n",
              "      border: none;\n",
              "      border-radius: 50%;\n",
              "      cursor: pointer;\n",
              "      display: none;\n",
              "      fill: #1967D2;\n",
              "      height: 32px;\n",
              "      padding: 0 0 0 0;\n",
              "      width: 32px;\n",
              "    }\n",
              "\n",
              "    .colab-df-convert:hover {\n",
              "      background-color: #E2EBFA;\n",
              "      box-shadow: 0px 1px 2px rgba(60, 64, 67, 0.3), 0px 1px 3px 1px rgba(60, 64, 67, 0.15);\n",
              "      fill: #174EA6;\n",
              "    }\n",
              "\n",
              "    [theme=dark] .colab-df-convert {\n",
              "      background-color: #3B4455;\n",
              "      fill: #D2E3FC;\n",
              "    }\n",
              "\n",
              "    [theme=dark] .colab-df-convert:hover {\n",
              "      background-color: #434B5C;\n",
              "      box-shadow: 0px 1px 3px 1px rgba(0, 0, 0, 0.15);\n",
              "      filter: drop-shadow(0px 1px 2px rgba(0, 0, 0, 0.3));\n",
              "      fill: #FFFFFF;\n",
              "    }\n",
              "  </style>\n",
              "\n",
              "      <script>\n",
              "        const buttonEl =\n",
              "          document.querySelector('#df-9891494c-99f1-4a5d-bc9f-1dc1f94eb06d button.colab-df-convert');\n",
              "        buttonEl.style.display =\n",
              "          google.colab.kernel.accessAllowed ? 'block' : 'none';\n",
              "\n",
              "        async function convertToInteractive(key) {\n",
              "          const element = document.querySelector('#df-9891494c-99f1-4a5d-bc9f-1dc1f94eb06d');\n",
              "          const dataTable =\n",
              "            await google.colab.kernel.invokeFunction('convertToInteractive',\n",
              "                                                     [key], {});\n",
              "          if (!dataTable) return;\n",
              "\n",
              "          const docLinkHtml = 'Like what you see? Visit the ' +\n",
              "            '<a target=\"_blank\" href=https://colab.research.google.com/notebooks/data_table.ipynb>data table notebook</a>'\n",
              "            + ' to learn more about interactive tables.';\n",
              "          element.innerHTML = '';\n",
              "          dataTable['output_type'] = 'display_data';\n",
              "          await google.colab.output.renderOutput(dataTable, element);\n",
              "          const docLink = document.createElement('div');\n",
              "          docLink.innerHTML = docLinkHtml;\n",
              "          element.appendChild(docLink);\n",
              "        }\n",
              "      </script>\n",
              "    </div>\n",
              "  </div>\n",
              "  "
            ]
          },
          "metadata": {},
          "execution_count": 190
        }
      ]
    },
    {
      "cell_type": "code",
      "source": [
        "sns.heatmap(df_job.corr())"
      ],
      "metadata": {
        "colab": {
          "base_uri": "https://localhost:8080/",
          "height": 385
        },
        "id": "aZaRuervKniU",
        "outputId": "b9a9c6e1-74e9-474d-d586-3553fe8aad07"
      },
      "execution_count": null,
      "outputs": [
        {
          "output_type": "execute_result",
          "data": {
            "text/plain": [
              "<AxesSubplot:>"
            ]
          },
          "metadata": {},
          "execution_count": 191
        },
        {
          "output_type": "display_data",
          "data": {
            "text/plain": [
              "<Figure size 432x288 with 2 Axes>"
            ],
            "image/png": "[encoded data removed]"
          },
          "metadata": {
            "needs_background": "light"
          }
        }
      ]
    },
    {
      "cell_type": "code",
      "source": [
        "sns.countplot('status',hue='gender',data=df_job)"
      ],
      "metadata": {
        "colab": {
          "base_uri": "https://localhost:8080/",
          "height": 297
        },
        "id": "vNCZOgMa40yi",
        "outputId": "277e9649-d2d8-4731-929c-4f9ae9b886f4"
      },
      "execution_count": null,
      "outputs": [
        {
          "output_type": "execute_result",
          "data": {
            "text/plain": [
              "<AxesSubplot:xlabel='status', ylabel='count'>"
            ]
          },
          "metadata": {},
          "execution_count": 192
        },
        {
          "output_type": "display_data",
          "data": {
            "text/plain": [
              "<Figure size 432x288 with 1 Axes>"
            ],
            "image/png": "[encoded data removed]"
          },
          "metadata": {
            "needs_background": "light"
          }
        }
      ]
    },
    {
      "cell_type": "code",
      "source": [
        "sns.countplot('status',hue='undergrad_degree',data=df_job)"
      ],
      "metadata": {
        "colab": {
          "base_uri": "https://localhost:8080/",
          "height": 297
        },
        "id": "sm9bR-JE6m3A",
        "outputId": "d76921a2-96d8-42e6-80b8-1e2e658d3586"
      },
      "execution_count": null,
      "outputs": [
        {
          "output_type": "execute_result",
          "data": {
            "text/plain": [
              "<AxesSubplot:xlabel='status', ylabel='count'>"
            ]
          },
          "metadata": {},
          "execution_count": 193
        },
        {
          "output_type": "display_data",
          "data": {
            "text/plain": [
              "<Figure size 432x288 with 1 Axes>"
            ],
            "image/png": "[encoded data removed]"
          },
          "metadata": {
            "needs_background": "light"
          }
        }
      ]
    },
    {
      "cell_type": "markdown",
      "source": [
        "# 15.**Predicting values**"
      ],
      "metadata": {
        "id": "b0E-EOQW4wyi"
      }
    },
    {
      "cell_type": "code",
      "source": [
        "new_data_pred=pd.DataFrame({'gender':0,                 \n",
        "    'ssc_percentage':90.5,'ssc_board':0,'hsc_percentage':95,'hsc_board':0,'hsc_subject':2,'degree_percentage':75.5,'undergrad_degree':2,'work_experience':0,'emp_test_percentage':56,'specialisation':1,'mba_percent':78.8 },index=[0])"
      ],
      "metadata": {
        "id": "EWS_MHeg4wUf"
      },
      "execution_count": null,
      "outputs": []
    },
    {
      "cell_type": "code",
      "source": [
        "prob=rf.predict_proba(new_data_pred)\n",
        "prob"
      ],
      "metadata": {
        "colab": {
          "base_uri": "https://localhost:8080/"
        },
        "id": "EaY86amU-Wpe",
        "outputId": "ce247def-7f99-44a3-ad57-69335b180ac2"
      },
      "execution_count": null,
      "outputs": [
        {
          "output_type": "execute_result",
          "data": {
            "text/plain": [
              "array([[0.17, 0.83]])"
            ]
          },
          "metadata": {},
          "execution_count": 195
        }
      ]
    },
    {
      "cell_type": "code",
      "source": [
        "pred=rf.predict(new_data_pred)\n",
        "\n",
        "if pred==1:\n",
        "  print(\"placed\")\n",
        "  print(f\"your probability for getting placed is {prob[0][1]:.2f}\")\n",
        "else:\n",
        "    print(\"Not Placed\")"
      ],
      "metadata": {
        "colab": {
          "base_uri": "https://localhost:8080/"
        },
        "id": "z3YWJijC7QXF",
        "outputId": "b23d085c-c5d4-433a-c2dd-3e3b77607636"
      },
      "execution_count": null,
      "outputs": [
        {
          "output_type": "stream",
          "name": "stdout",
          "text": [
            "placed\n",
            "your probability for getting placed is 0.83\n"
          ]
        }
      ]
    }
  ]
}