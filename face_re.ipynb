{
 "cells": [
  {
   "cell_type": "code",
   "execution_count": 47,
   "metadata": {},
   "outputs": [],
   "source": [
    "import cv2\n",
    "import numpy as np\n",
    "import os "
   ]
  },
  {
   "cell_type": "code",
   "execution_count": 48,
   "metadata": {},
   "outputs": [],
   "source": [
    "def name_map(x):\n",
    "    if x=='sachin':\n",
    "        return 0\n",
    "    if x=='obama':\n",
    "        return 1\n",
    "    if x=='messi':\n",
    "        return 2"
   ]
  },
  {
   "cell_type": "code",
   "execution_count": 49,
   "metadata": {},
   "outputs": [],
   "source": [
    "def get_name(x):\n",
    "    if x==0:\n",
    "        return 'sachin'\n",
    "    if x==1:\n",
    "        return 'obama'\n",
    "    if x==2:\n",
    "        return 'messi'\n",
    "        "
   ]
  },
  {
   "cell_type": "code",
   "execution_count": 50,
   "metadata": {},
   "outputs": [],
   "source": [
    "def detect_face(img):\n",
    "    gray=cv2.cvtColor(img,cv2.COLOR_BGR2GRAY)\n",
    "    face_cascade=cv2.CascadeClassifier(r'D:\\Computer_Vision\\face_recognition\\haarcascade_frontalface_default.xml')\n",
    "    faces=face_cascade.detectMultiScale(gray,scaleFactor=1.1,minNeighbors=4)\n",
    "    if len(faces)==0:\n",
    "        return None,None\n",
    "    x,y,w,h=faces[0]\n",
    "    return gray[y:y+h,x:x+w],faces[0]"
   ]
  },
  {
   "cell_type": "code",
   "execution_count": 51,
   "metadata": {},
   "outputs": [],
   "source": [
    "\n",
    "# data_folder_path=r'D:\\Computer_Vision\\face_recognition\\DB'\n",
    "# dirs=os.listdir(data_folder_path) # to get directory\n",
    "# print(dirs)\n",
    "# for dir_name in dirs:\n",
    "#     subject_dir_path=data_folder_path+'/'+dir_name # to get the path of each directory\n",
    "#     print(subject_dir_path)\n",
    "#     subject_image_names=os.listdir(subject_dir_path) #to get the images in a directory\n",
    "#     print(subject_image_names)\n",
    "#     for img_name in subject_image_names:# for getting each images\n",
    "#         img_path=subject_dir_path+'/'+img_name\n",
    "#         # print(img_path)\n",
    "#         image=cv2.imread(img_path)\n",
    "#         cv2.imshow('Training image',image)\n",
    "#         cv2.waitKey(1000)\n",
    "#     cv2.destroyAllWindows()         "
   ]
  },
  {
   "attachments": {},
   "cell_type": "markdown",
   "metadata": {},
   "source": [
    "now making the above code as a function"
   ]
  },
  {
   "cell_type": "code",
   "execution_count": 52,
   "metadata": {},
   "outputs": [],
   "source": [
    "def prepare_training_data(data_folder_path):\n",
    "    dirs=os.listdir(data_folder_path) # to get directory\n",
    "    faces=[]\n",
    "    labels=[]\n",
    "    for dir_name in dirs:\n",
    "       label=dir_name\n",
    "       subject_dir_path=data_folder_path+'/'+dir_name # to get the path of each directory\n",
    "       subject_image_names=os.listdir(subject_dir_path) #to get the images in a directory\n",
    "       for img_name in subject_image_names:# for getting each images\n",
    "          img_path=subject_dir_path+'/'+img_name\n",
    "           # print(img_path)\n",
    "          image=cv2.imread(img_path)\n",
    "          cv2.imshow('Training image',image)\n",
    "          cv2.waitKey(1000) \n",
    "          # now on the faces are detected\n",
    "          face,rect=detect_face(image)\n",
    "          if face is not None:\n",
    "             faces.append(face)\n",
    "             labels.append(name_map(label))\n",
    "             print(labels)\n",
    "    cv2.destroyAllWindows()  \n",
    "    cv2.waitKey(1)\n",
    "    return faces,labels"
   ]
  },
  {
   "cell_type": "code",
   "execution_count": 53,
   "metadata": {},
   "outputs": [],
   "source": [
    "# dirs=r'D:\\Computer_Vision\\face_recognition\\DB'\n",
    "# print(os.listdir(dirs))\n",
    "# messipath=dirs +'/'+ 'messi'\n",
    "# oba=dirs+ '/'+'obama'+'/'+'01.jpg'\n",
    "# oba"
   ]
  },
  {
   "cell_type": "code",
   "execution_count": 54,
   "metadata": {},
   "outputs": [
    {
     "name": "stdout",
     "output_type": "stream",
     "text": [
      "preparing_data\n",
      "[2]\n",
      "[2, 2]\n",
      "[2, 2, 2]\n",
      "[2, 2, 2, 2]\n",
      "[2, 2, 2, 2, 2]\n",
      "[2, 2, 2, 2, 2, 2]\n",
      "[2, 2, 2, 2, 2, 2, 2]\n",
      "[2, 2, 2, 2, 2, 2, 2, 2]\n",
      "[2, 2, 2, 2, 2, 2, 2, 2, 2]\n",
      "[2, 2, 2, 2, 2, 2, 2, 2, 2, 2]\n",
      "[2, 2, 2, 2, 2, 2, 2, 2, 2, 2, 1]\n",
      "[2, 2, 2, 2, 2, 2, 2, 2, 2, 2, 1, 1]\n",
      "[2, 2, 2, 2, 2, 2, 2, 2, 2, 2, 1, 1, 1]\n",
      "[2, 2, 2, 2, 2, 2, 2, 2, 2, 2, 1, 1, 1, 1]\n",
      "[2, 2, 2, 2, 2, 2, 2, 2, 2, 2, 1, 1, 1, 1, 1]\n",
      "[2, 2, 2, 2, 2, 2, 2, 2, 2, 2, 1, 1, 1, 1, 1, 1]\n",
      "[2, 2, 2, 2, 2, 2, 2, 2, 2, 2, 1, 1, 1, 1, 1, 1, 1]\n",
      "[2, 2, 2, 2, 2, 2, 2, 2, 2, 2, 1, 1, 1, 1, 1, 1, 1, 1]\n",
      "[2, 2, 2, 2, 2, 2, 2, 2, 2, 2, 1, 1, 1, 1, 1, 1, 1, 1, 1]\n",
      "[2, 2, 2, 2, 2, 2, 2, 2, 2, 2, 1, 1, 1, 1, 1, 1, 1, 1, 1, 1]\n",
      "[2, 2, 2, 2, 2, 2, 2, 2, 2, 2, 1, 1, 1, 1, 1, 1, 1, 1, 1, 1, 0]\n",
      "[2, 2, 2, 2, 2, 2, 2, 2, 2, 2, 1, 1, 1, 1, 1, 1, 1, 1, 1, 1, 0, 0]\n",
      "[2, 2, 2, 2, 2, 2, 2, 2, 2, 2, 1, 1, 1, 1, 1, 1, 1, 1, 1, 1, 0, 0, 0]\n",
      "[2, 2, 2, 2, 2, 2, 2, 2, 2, 2, 1, 1, 1, 1, 1, 1, 1, 1, 1, 1, 0, 0, 0, 0]\n",
      "[2, 2, 2, 2, 2, 2, 2, 2, 2, 2, 1, 1, 1, 1, 1, 1, 1, 1, 1, 1, 0, 0, 0, 0, 0]\n",
      "[2, 2, 2, 2, 2, 2, 2, 2, 2, 2, 1, 1, 1, 1, 1, 1, 1, 1, 1, 1, 0, 0, 0, 0, 0, 0]\n",
      "[2, 2, 2, 2, 2, 2, 2, 2, 2, 2, 1, 1, 1, 1, 1, 1, 1, 1, 1, 1, 0, 0, 0, 0, 0, 0, 0]\n",
      "[2, 2, 2, 2, 2, 2, 2, 2, 2, 2, 1, 1, 1, 1, 1, 1, 1, 1, 1, 1, 0, 0, 0, 0, 0, 0, 0, 0]\n",
      "[2, 2, 2, 2, 2, 2, 2, 2, 2, 2, 1, 1, 1, 1, 1, 1, 1, 1, 1, 1, 0, 0, 0, 0, 0, 0, 0, 0, 0]\n",
      "Data prepared\n"
     ]
    }
   ],
   "source": [
    "print('preparing_data')\n",
    "faces,labels=prepare_training_data(r'D:\\Computer_Vision\\face_recognition\\DB')\n",
    "print('Data prepared')"
   ]
  },
  {
   "cell_type": "code",
   "execution_count": 55,
   "metadata": {},
   "outputs": [
    {
     "name": "stdout",
     "output_type": "stream",
     "text": [
      "Total faces detected 29\n"
     ]
    }
   ],
   "source": [
    "print('Total faces detected',len(faces))"
   ]
  },
  {
   "cell_type": "code",
   "execution_count": 56,
   "metadata": {},
   "outputs": [
    {
     "name": "stdout",
     "output_type": "stream",
     "text": [
      "Total number of labels 29\n"
     ]
    }
   ],
   "source": [
    "print(\"Total number of labels\",len(labels))"
   ]
  },
  {
   "cell_type": "code",
   "execution_count": 57,
   "metadata": {},
   "outputs": [
    {
     "data": {
      "text/plain": [
       "< cv2.face.LBPHFaceRecognizer 0000025B3D8777B0>"
      ]
     },
     "execution_count": 57,
     "metadata": {},
     "output_type": "execute_result"
    }
   ],
   "source": [
    "recognizer=cv2.face.LBPHFaceRecognizer_create() # LBPH--> Low Binary phase Face Detecion Recognizer\n",
    "recognizer"
   ]
  },
  {
   "cell_type": "code",
   "execution_count": 58,
   "metadata": {},
   "outputs": [],
   "source": [
    "recognizer.train(faces,np.array(labels))"
   ]
  },
  {
   "cell_type": "code",
   "execution_count": 59,
   "metadata": {},
   "outputs": [],
   "source": [
    "def draw_rectangle(img,rect):\n",
    "    (x,y,w,h)=rect\n",
    "    cv2.rectangle(img,(x,y),(x+w,y+h),(255,0,0),2)"
   ]
  },
  {
   "cell_type": "code",
   "execution_count": 60,
   "metadata": {},
   "outputs": [],
   "source": [
    "def draw_text(img,text,x,y):\n",
    "    cv2.putText(img,text,(x,y),cv2.FONT_HERSHEY_COMPLEX,1,(0,255,0),2)"
   ]
  },
  {
   "cell_type": "code",
   "execution_count": 69,
   "metadata": {},
   "outputs": [],
   "source": [
    "def predict(test_img):\n",
    "    img=test_img.copy()\n",
    "    face,rect=detect_face(img)\n",
    "    label=recognizer.predict(face)\n",
    "    label_text=get_name(label[0])\n",
    "    draw_rectangle(img,rect)\n",
    "    draw_text(img,label_text,rect[0],rect[1])\n",
    "    return img"
   ]
  },
  {
   "cell_type": "code",
   "execution_count": 91,
   "metadata": {},
   "outputs": [],
   "source": [
    "test_img=cv2.imread(r'D:\\Computer_Vision\\face_recognition\\obama.jpg')\n",
    "# test_img=cv2.imread(r'D:\\Computer_Vision\\face_recognition\\messi1.jpg')\n",
    "# test_img=cv2.imread(r'D:\\Computer_Vision\\face_recognition\\sachin.jpg')"
   ]
  },
  {
   "cell_type": "code",
   "execution_count": 92,
   "metadata": {},
   "outputs": [
    {
     "data": {
      "text/plain": [
       "array([[[ 24,  33,  83],\n",
       "        [ 15,  27,  81],\n",
       "        [ 16,  31,  93],\n",
       "        ...,\n",
       "        [ 20,  27, 100],\n",
       "        [ 25,  32, 105],\n",
       "        [ 40,  44, 127]],\n",
       "\n",
       "       [[ 28,  32,  83],\n",
       "        [ 19,  26,  81],\n",
       "        [ 18,  31,  93],\n",
       "        ...,\n",
       "        [ 20,  27, 100],\n",
       "        [ 25,  32, 105],\n",
       "        [ 40,  44, 127]],\n",
       "\n",
       "       [[ 34,  32,  84],\n",
       "        [ 24,  25,  81],\n",
       "        [ 22,  29,  92],\n",
       "        ...,\n",
       "        [ 20,  27, 100],\n",
       "        [ 25,  32, 105],\n",
       "        [ 40,  44, 127]],\n",
       "\n",
       "       ...,\n",
       "\n",
       "       [[174, 174, 204],\n",
       "        [167, 169, 193],\n",
       "        [180, 183, 198],\n",
       "        ...,\n",
       "        [ 19,  15,  26],\n",
       "        [ 14,   8,  19],\n",
       "        [ 26,  20,  31]],\n",
       "\n",
       "       [[133, 133, 169],\n",
       "        [161, 162, 190],\n",
       "        [188, 191, 206],\n",
       "        ...,\n",
       "        [ 30,  16,  17],\n",
       "        [ 32,  16,  17],\n",
       "        [ 33,  17,  18]],\n",
       "\n",
       "       [[130, 129, 168],\n",
       "        [156, 158, 188],\n",
       "        [186, 189, 204],\n",
       "        ...,\n",
       "        [ 37,  17,  12],\n",
       "        [ 37,  17,  12],\n",
       "        [ 38,  18,  13]]], dtype=uint8)"
      ]
     },
     "execution_count": 92,
     "metadata": {},
     "output_type": "execute_result"
    }
   ],
   "source": [
    "test_img"
   ]
  },
  {
   "cell_type": "code",
   "execution_count": 90,
   "metadata": {},
   "outputs": [],
   "source": [
    "predicted=predict(test_img)\n",
    "cv2.imshow('predicted image',predicted)\n",
    "cv2.waitKey()\n",
    "cv2.destroyAllWindows()"
   ]
  },
  {
   "cell_type": "code",
   "execution_count": null,
   "metadata": {},
   "outputs": [],
   "source": []
  }
 ],
 "metadata": {
  "kernelspec": {
   "display_name": "Python 3",
   "language": "python",
   "name": "python3"
  },
  "language_info": {
   "codemirror_mode": {
    "name": "ipython",
    "version": 3
   },
   "file_extension": ".py",
   "mimetype": "text/x-python",
   "name": "python",
   "nbconvert_exporter": "python",
   "pygments_lexer": "ipython3",
   "version": "3.10.7"
  },
  "orig_nbformat": 4,
  "vscode": {
   "interpreter": {
    "hash": "8c3d4d9970fc5c09c50d9318a9c7fbf4d0159e4b28833276f5678ee22bded273"
   }
  }
 },
 "nbformat": 4,
 "nbformat_minor": 2
}
